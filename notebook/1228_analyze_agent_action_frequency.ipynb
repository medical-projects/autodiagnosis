{
 "cells": [
  {
   "cell_type": "code",
   "execution_count": 1,
   "metadata": {},
   "outputs": [],
   "source": [
    "%matplotlib inline\n",
    "import matplotlib.pyplot as plt"
   ]
  },
  {
   "cell_type": "code",
   "execution_count": 2,
   "metadata": {},
   "outputs": [],
   "source": [
    "import argparse\n",
    "import argparse\n",
    "import json\n",
    "import os\n",
    "\n",
    "import numpy as np\n",
    "import tensorflow as tf\n",
    "\n",
    "from arch.Sequencial_Dueling_DQN import SequencialDuelingDQN\n",
    "from database.MIMIC_cache_exp import MIMIC_cache_discretized_joint_exp_random_order\n",
    "from utils.general import Timer"
   ]
  },
  {
   "cell_type": "code",
   "execution_count": 3,
   "metadata": {},
   "outputs": [],
   "source": [
    "def set_up_rl_agent(sess, dirname):\n",
    "    with open(os.path.join(dirname, 'hyperparams.log'), 'r') as file:\n",
    "        hyperparams = json.load(file)\n",
    "        policy_hyparams = hyperparams['rl']\n",
    "\n",
    "    with open(os.path.join(dirname, 'results.json'), 'r') as file:\n",
    "        training_results = json.load(file)\n",
    "\n",
    "    # set up trained policy ----------------\n",
    "    with tf.variable_scope('dqn', reuse=tf.AUTO_REUSE):\n",
    "        dqn = SequencialDuelingDQN(**policy_hyparams)\n",
    "\n",
    "    saver = tf.train.Saver(var_list=tf.get_collection(tf.GraphKeys.GLOBAL_VARIABLES, scope='dqn'))\n",
    "\n",
    "    saver.restore(sess, args.policy_dir + 'model-%d' % training_results['best_model_idx'])\n",
    "\n",
    "    return dqn\n",
    "\n",
    "\n",
    "def choose_topK_actions(sess, dqn, exp_loader, topK, debug=False):\n",
    "    best_action_result = []\n",
    "    num_actions_till_time_pass_result = []\n",
    "\n",
    "    for batch_idx, exp in enumerate(exp_loader):\n",
    "        batch_size, action_dim = exp['actions'].shape\n",
    "\n",
    "        # Record best actions and corresponding len\n",
    "        best_action_arrs = -1 * np.ones((batch_size, topK))\n",
    "        num_actions_till_time_pass = topK * np.ones((batch_size,))\n",
    "\n",
    "        # Start with empty history\n",
    "        cur_history = np.zeros((batch_size, action_dim - 1))\n",
    "        kept = np.ones((batch_size,), dtype=bool)\n",
    "\n",
    "        for k in range(topK):\n",
    "            if not np.any(kept):  # All records are time pass\n",
    "                break\n",
    "\n",
    "            s = np.concatenate((exp['next_state'], cur_history), axis=1)  # why next state?\n",
    "\n",
    "            best_action = sess.run([dqn.best_actions], feed_dict={dqn.s: s})[0]\n",
    "            best_action_arrs[kept, k] = best_action[kept]\n",
    "\n",
    "            # Update num_actions! Last are kept but now becomes time pass\n",
    "            num_actions_till_time_pass[kept & (best_action == action_dim - 1)] = (k + 1)\n",
    "\n",
    "            # If action is time shift, flag it as non-kept\n",
    "            kept = (kept & (best_action != action_dim - 1))\n",
    "\n",
    "            cur_history[kept, best_action[kept]] = 1\n",
    "\n",
    "        best_action_result.append(best_action_arrs)\n",
    "        num_actions_till_time_pass_result.append(num_actions_till_time_pass)\n",
    "\n",
    "        if debug and batch_idx == 20:\n",
    "            break\n",
    "\n",
    "    best_action_result = np.concatenate(best_action_result, axis=0)\n",
    "    num_actions_till_time_pass_result = np.concatenate(num_actions_till_time_pass_result, axis=0)\n",
    "\n",
    "    return best_action_result, num_actions_till_time_pass_result\n",
    "\n",
    "\n",
    "def parse_args(rand=False):\n",
    "    parser = argparse.ArgumentParser(description='Regression based value estimator')\n",
    "\n",
    "    # Experience --------------------------------\n",
    "    parser.add_argument('--cache_dir', type=str,\n",
    "                        default='../RL_exp_cache/1128-30mins-24hrs-20order-rnn-neg_sampled/')\n",
    "    parser.add_argument('--policy_dir', type=str,\n",
    "                        default='../models/dqn_mimic-1221_random_order_search-g1-ac5.0e-04-gamma0.95-fold1.0-only_pos0-sd167-ad40-nn-10000-3-1-256-lr-0.0001-reg-0.0001-0.5-s-256-5000-i-50-500-3-1/')\n",
    "    parser.add_argument('--load_per_action_cost', type=bool, default=True)\n",
    "    parser.add_argument('--identifier', type=str, default='debug_')\n",
    "    parser.add_argument('--topk', type=int, default=5)\n",
    "\n",
    "    args = parser.parse_args([])\n",
    "    return args"
   ]
  },
  {
   "cell_type": "code",
   "execution_count": 4,
   "metadata": {},
   "outputs": [
    {
     "name": "stdout",
     "output_type": "stream",
     "text": [
      "Normalize the state for the first 128 dim with total 167 dim\n",
      "INFO:tensorflow:Restoring parameters from ../models/dqn_mimic-1221_random_order_search-g1-ac5.0e-04-gamma0.95-fold1.0-only_pos0-sd167-ad40-nn-10000-3-1-256-lr-0.0001-reg-0.0001-0.5-s-256-5000-i-50-500-3-1/model-0\n",
      "Start Calculate action frequency...\n",
      "Finish Calculate action frequency in 45.12949585914612 seconds\n"
     ]
    }
   ],
   "source": [
    "seed = 0\n",
    "np.random.seed(seed)\n",
    "tf.set_random_seed(seed)\n",
    "args = parse_args()\n",
    "\n",
    "# set up cached experience\n",
    "mimic_exp = MIMIC_cache_discretized_joint_exp_random_order(cache_dir=args.cache_dir)\n",
    "\n",
    "config = tf.ConfigProto()\n",
    "config.gpu_options.allow_growth = True\n",
    "with tf.Session(config=config) as sess:\n",
    "    dqn = set_up_rl_agent(sess, args.policy_dir)\n",
    "\n",
    "    test_loader = mimic_exp.gen_experience(sess=sess, filename='test_per_time', batch_size=1000, shuffle=False)\n",
    "\n",
    "    # Action corresponding to the regression\n",
    "    with Timer('Calculate action frequency'):\n",
    "        best_action_result, num_actions_till_time_pass_result = \\\n",
    "        choose_topK_actions(sess=sess, dqn=dqn, exp_loader=test_loader, topK=args.topk)"
   ]
  },
  {
   "cell_type": "code",
   "execution_count": 5,
   "metadata": {},
   "outputs": [
    {
     "data": {
      "text/plain": [
       "(278651, 5)"
      ]
     },
     "execution_count": 5,
     "metadata": {},
     "output_type": "execute_result"
    }
   ],
   "source": [
    "best_action_result.shape"
   ]
  },
  {
   "cell_type": "code",
   "execution_count": 6,
   "metadata": {},
   "outputs": [],
   "source": [
    "import pickle"
   ]
  },
  {
   "cell_type": "code",
   "execution_count": 7,
   "metadata": {
    "scrolled": true
   },
   "outputs": [],
   "source": [
    "with open('../data/in_hospital_mortality_181111/norm_time_var_features.pkl', 'rb') as f:\n",
    "    feature_name_to_idx = pickle.load(f)['selected_feature_name_to_idx']"
   ]
  },
  {
   "cell_type": "code",
   "execution_count": 8,
   "metadata": {},
   "outputs": [
    {
     "data": {
      "text/plain": [
       "{'Anion gap': 0,\n",
       " 'Bicarbonate': 1,\n",
       " 'Blood urea nitrogen': 2,\n",
       " 'Calcium (total)': 3,\n",
       " 'Chloride (blood)': 4,\n",
       " 'Creatine kinase': 5,\n",
       " 'Creatinine (blood)': 6,\n",
       " 'Diastolic blood pressure': 7,\n",
       " 'Glascow coma scale total': 8,\n",
       " 'Glucose (blood)': 9,\n",
       " 'Heart Rate': 10,\n",
       " 'Hematocrit': 11,\n",
       " 'Hemoglobin': 12,\n",
       " 'Magnesium': 13,\n",
       " 'Mean blood pressure': 14,\n",
       " 'Mean corpuscular hemoglobin': 15,\n",
       " 'Phosphate': 16,\n",
       " 'Platelets': 17,\n",
       " 'Potassium': 18,\n",
       " 'Prothrombin time': 19,\n",
       " 'Red blood cell count (blood)': 20,\n",
       " 'Sodium': 21,\n",
       " 'Systolic blood pressure': 22,\n",
       " 'Temperature (C)': 23,\n",
       " 'White blood cell count (blood)': 24,\n",
       " 'CO2 (ETCO2, PCO2, etc.)': 25,\n",
       " 'Oxygen saturation': 26,\n",
       " 'Partial pressure of carbon dioxide': 27,\n",
       " 'Partial thromboplastin time': 28,\n",
       " 'pH (blood)': 29,\n",
       " 'Bilirubin (total)': 30,\n",
       " 'Lactate': 31,\n",
       " 'Lactic acid': 32,\n",
       " 'Positive end-expiratory pressure': 33,\n",
       " 'Fraction inspired oxygen': 34,\n",
       " 'Calcium ionized': 35,\n",
       " 'Alanine aminotransferase': 36,\n",
       " 'Alkaline phosphate': 37,\n",
       " 'Asparate aminotransferase': 38}"
      ]
     },
     "execution_count": 8,
     "metadata": {},
     "output_type": "execute_result"
    }
   ],
   "source": [
    "feature_name_to_idx"
   ]
  },
  {
   "cell_type": "code",
   "execution_count": 9,
   "metadata": {},
   "outputs": [],
   "source": [
    "from utils.plotting import plot_hist_simple, _plot_element"
   ]
  },
  {
   "cell_type": "code",
   "execution_count": null,
   "metadata": {},
   "outputs": [],
   "source": []
  },
  {
   "cell_type": "code",
   "execution_count": 10,
   "metadata": {
    "scrolled": true
   },
   "outputs": [],
   "source": [
    "import pandas as pd"
   ]
  },
  {
   "cell_type": "code",
   "execution_count": 11,
   "metadata": {},
   "outputs": [],
   "source": [
    "df = pd.DataFrame({f'rank{i}': best_action_result[:, i] for i in range(args.topk)})"
   ]
  },
  {
   "cell_type": "code",
   "execution_count": 12,
   "metadata": {},
   "outputs": [
    {
     "data": {
      "text/plain": [
       "12.0    0.805779\n",
       "39.0    0.179895\n",
       "34.0    0.013282\n",
       "22.0    0.001044\n",
       "Name: rank0, dtype: float64"
      ]
     },
     "execution_count": 12,
     "metadata": {},
     "output_type": "execute_result"
    }
   ],
   "source": [
    "pd.value_counts(df['rank0']) / len(df)"
   ]
  },
  {
   "cell_type": "code",
   "execution_count": 13,
   "metadata": {
    "scrolled": true
   },
   "outputs": [
    {
     "data": {
      "text/plain": [
       " 34.0    0.653570\n",
       "-1.0     0.179895\n",
       " 22.0    0.110202\n",
       " 39.0    0.040143\n",
       " 12.0    0.008875\n",
       " 16.0    0.007314\n",
       "Name: rank1, dtype: float64"
      ]
     },
     "execution_count": 13,
     "metadata": {},
     "output_type": "execute_result"
    }
   ],
   "source": [
    "pd.value_counts(df['rank1']) / len(df)"
   ]
  },
  {
   "cell_type": "code",
   "execution_count": 14,
   "metadata": {},
   "outputs": [
    {
     "data": {
      "text/plain": [
       " 22.0    0.612465\n",
       "-1.0     0.220039\n",
       " 34.0    0.094710\n",
       " 39.0    0.045907\n",
       " 16.0    0.026553\n",
       " 12.0    0.000327\n",
       "Name: rank2, dtype: float64"
      ]
     },
     "execution_count": 14,
     "metadata": {},
     "output_type": "execute_result"
    }
   ],
   "source": [
    "pd.value_counts(df['rank2']) / len(df)"
   ]
  },
  {
   "cell_type": "code",
   "execution_count": 15,
   "metadata": {
    "scrolled": true
   },
   "outputs": [
    {
     "data": {
      "text/plain": [
       " 16.0    0.600378\n",
       "-1.0     0.265946\n",
       " 39.0    0.112747\n",
       " 22.0    0.018439\n",
       " 34.0    0.002491\n",
       "Name: rank3, dtype: float64"
      ]
     },
     "execution_count": 15,
     "metadata": {},
     "output_type": "execute_result"
    }
   ],
   "source": [
    "pd.value_counts(df['rank3']) / len(df)"
   ]
  },
  {
   "cell_type": "code",
   "execution_count": 16,
   "metadata": {},
   "outputs": [
    {
     "data": {
      "text/plain": [
       " 39.0    0.621308\n",
       "-1.0     0.378692\n",
       "Name: rank4, dtype: float64"
      ]
     },
     "execution_count": 16,
     "metadata": {},
     "output_type": "execute_result"
    }
   ],
   "source": [
    "pd.value_counts(df['rank4']) / len(df)"
   ]
  },
  {
   "cell_type": "code",
   "execution_count": 17,
   "metadata": {},
   "outputs": [
    {
     "data": {
      "image/png": "[encoded data removed]",
      "text/plain": [
       "<Figure size 432x288 with 1 Axes>"
      ]
     },
     "metadata": {
      "needs_background": "light"
     },
     "output_type": "display_data"
    }
   ],
   "source": [
    "plot_hist_simple(best_action_result[:, 1])"
   ]
  },
  {
   "cell_type": "code",
   "execution_count": 18,
   "metadata": {},
   "outputs": [
    {
     "data": {
      "image/png": "[encoded data removed]",
      "text/plain": [
       "<Figure size 432x288 with 1 Axes>"
      ]
     },
     "metadata": {
      "needs_background": "light"
     },
     "output_type": "display_data"
    }
   ],
   "source": [
    "plot_hist_simple(best_action_result)"
   ]
  }
 ],
 "metadata": {
  "kernelspec": {
   "display_name": "Python 3",
   "language": "python",
   "name": "python3"
  },
  "language_info": {
   "codemirror_mode": {
    "name": "ipython",
    "version": 3
   },
   "file_extension": ".py",
   "mimetype": "text/x-python",
   "name": "python",
   "nbconvert_exporter": "python",
   "pygments_lexer": "ipython3",
   "version": "3.6.5"
  },
  "varInspector": {
   "cols": {
    "lenName": 16,
    "lenType": 16,
    "lenVar": 40
   },
   "kernels_config": {
    "python": {
     "delete_cmd_postfix": "",
     "delete_cmd_prefix": "del ",
     "library": "var_list.py",
     "varRefreshCmd": "print(var_dic_list())"
    },
    "r": {
     "delete_cmd_postfix": ") ",
     "delete_cmd_prefix": "rm(",
     "library": "var_list.r",
     "varRefreshCmd": "cat(var_dic_list()) "
    }
   },
   "types_to_exclude": [
    "module",
    "function",
    "builtin_function_or_method",
    "instance",
    "_Feature"
   ],
   "window_display": false
  }
 },
 "nbformat": 4,
 "nbformat_minor": 2
}
