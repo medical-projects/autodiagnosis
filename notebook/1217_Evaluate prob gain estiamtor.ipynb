{
 "cells": [
  {
   "cell_type": "code",
   "execution_count": 1,
   "metadata": {},
   "outputs": [],
   "source": [
    "%matplotlib inline\n",
    "import matplotlib.pyplot as plt"
   ]
  },
  {
   "cell_type": "code",
   "execution_count": 2,
   "metadata": {},
   "outputs": [],
   "source": [
    "import argparse\n",
    "import json\n",
    "import os\n",
    "import pickle\n",
    "\n",
    "import numpy as np\n",
    "import tensorflow as tf\n",
    "\n",
    "from arch.Sequencial_Dueling_DQN import SequencialDuelingDQN\n",
    "from arch.simple_neural_network import NNRegressor\n",
    "from database.MIMIC_cache_exp import MIMIC_cache_discretized_joint_exp_random_order\n",
    "from policy_training_and_evaluation.run_sequential_dqn import process_exp_func\n",
    "from utils.general import to_one_hot"
   ]
  },
  {
   "cell_type": "code",
   "execution_count": 3,
   "metadata": {},
   "outputs": [],
   "source": [
    "def _plot_element(**kwargs):\n",
    "    if 'title' in kwargs: plt.title(kwargs['title'], fontsize=20)\n",
    "    if 'lower' in kwargs is not None and kwargs['upper'] is not None:\n",
    "        plt.fill_between(kwargs['x'], kwargs['lower'], kwargs['upper'] , alpha=0.2)\n",
    "    if 'xlabel' in kwargs: plt.xlabel(kwargs['xlabel'], fontsize=20)\n",
    "    if 'ylabel' in kwargs: plt.ylabel(kwargs['ylabel'], fontsize=20)\n",
    "    if 'xlim' in kwargs: plt.xlim(kwargs['xlim'])\n",
    "    if 'ylim' in kwargs: plt.ylim(kwargs['ylim'])\n",
    "\n",
    "def plot_hist_simple(data, **kwargs):\n",
    "    plt.figure(figsize=[12,8])\n",
    "    plt.hist(data)\n",
    "    plt.grid(True)\n",
    "    _plot_element(**kwargs)\n",
    "    plt.show\n",
    "\n",
    "def plot_scatter_simple(data1, data2, **kwargs):\n",
    "    plt.figure(figsize=[12,8])\n",
    "    plt.scatter(data1, data2)\n",
    "    plt.grid(True)\n",
    "    _plot_element(**kwargs)\n",
    "    plt.show()"
   ]
  },
  {
   "cell_type": "code",
   "execution_count": 9,
   "metadata": {},
   "outputs": [],
   "source": [
    "def reward_func(exp):\n",
    "    # If mortality is 1, then encourage to increase probability.\n",
    "    # If mortality is 0, be negative.\n",
    "    information_gain = args.gain_coef * exp['prob_gain'] * (2 * exp['mortality'] - 1)\n",
    "    if args.only_pos_reward:\n",
    "        information_gain[information_gain < 0] = 0\n",
    "\n",
    "    # action cost. Time pass cost is 0, others are 1\n",
    "    time_pass = exp['actions'][:, -1]\n",
    "    action_cost = 1 - time_pass\n",
    "\n",
    "    rewards = information_gain + args.action_cost_coef * action_cost\n",
    "    return rewards[:, None]  # Increase one dim\n",
    "\n",
    "\n",
    "def parse_args(rand=False):\n",
    "\n",
    "    parser = argparse.ArgumentParser(description='Regression based value estimator')\n",
    "\n",
    "    # Experience --------------------------------\n",
    "    parser.add_argument('--cache_dir', type=str,\n",
    "                        default='../RL_exp_cache/1128-30mins-24hrs-20order-rnn-neg_sampled/')\n",
    "    parser.add_argument('--policy_dir', type=str,\n",
    "                        default='../models/dqn_mimic-1221_random_order_search-g1-ac5.0e-04-gamma0.95-fold1.0-only_pos0-sd167-ad40-nn-10000-3-1-256-lr-0.0001-reg-0.0001-0.5-s-256-5000-i-50-500-3-1/')\n",
    "    parser.add_argument('--reward_estimator_dir', type=str,\n",
    "                        default='../models/rew_m_normal1217-hl1-hu512-lr1e-06-reg0.01-kp0.8-bs128-r1/')\n",
    "    parser.add_argument('--normalized_state', type=int, default=1)\n",
    "    \n",
    "    args = parser.parse_args([])\n",
    "    \n",
    "    args.normalized_file = None\n",
    "    if args.normalized_state:\n",
    "        args.normalized_file = os.path.join(args.cache_dir, 'state_mean_and_std.csv')\n",
    "        assert os.path.isfile(args.normalized_file)\n",
    "    \n",
    "    return args"
   ]
  },
  {
   "cell_type": "code",
   "execution_count": 10,
   "metadata": {},
   "outputs": [
    {
     "name": "stdout",
     "output_type": "stream",
     "text": [
      "Normalize the input for the first 128 dim with total 207 dim\n",
      "Normalize the state for the first 128 dim with total 167 dim\n"
     ]
    }
   ],
   "source": [
    "seed = 0\n",
    "np.random.seed(seed)\n",
    "tf.set_random_seed(seed)\n",
    "args = parse_args()\n",
    "\n",
    "tf.reset_default_graph()\n",
    "\n",
    "with open(os.path.join(args.reward_estimator_dir, 'hyperparameters.pkl'), 'rb') as file:\n",
    "    rew_estimator_hparams = pickle.load(file)\n",
    "\n",
    "with open(os.path.join(args.reward_estimator_dir, 'results.pkl'), 'rb') as file:\n",
    "    rew_estimator_training_results = pickle.load(file)\n",
    "    # todo access mean and std of output and target of the training set form this file\n",
    "\n",
    "reward_attributes = dict(gain_coef=1, action_cost_coef=5.0e-04, gamma=0.9,\n",
    "                         pos_label_fold_coef=1.0, only_pos_reward=0)\n",
    "\n",
    "with open(os.path.join(args.policy_dir, 'hyperparams.log'), 'r') as file:\n",
    "    rl_attributes = json.load(file)['rl']\n",
    "    # todo: access reward attributes from this file\n",
    "\n",
    "with open(os.path.join(args.policy_dir, 'results.json'), 'r') as file:\n",
    "    rl_training_results = json.load(file)\n",
    "\n",
    "# set up cached experience\n",
    "mimic_exp = MIMIC_cache_discretized_joint_exp_random_order(cache_dir=args.cache_dir)\n",
    "\n",
    "# set up reward estimator ----------------\n",
    "with tf.variable_scope('reward_model', reuse=tf.AUTO_REUSE):\n",
    "    rew_estimator = NNRegressor(variable_scope='reward_model',\n",
    "                                input_dim=rew_estimator_hparams.input_dim,\n",
    "                                output_dim=rew_estimator_hparams.output_dim,\n",
    "                                lr=rew_estimator_hparams.lr,\n",
    "                                keep_prob=rew_estimator_hparams.keep_prob,\n",
    "                                reg_constant=rew_estimator_hparams.reg_constant,\n",
    "                                num_hidden_layers=rew_estimator_hparams.num_hidden_layers,\n",
    "                                num_hidden_units=rew_estimator_hparams.num_hidden_units,\n",
    "                                normalized_file=args.normalized_file, log=print)\n",
    "\n",
    "# set up trained policy ----------------\n",
    "with tf.variable_scope('dqn', reuse=tf.AUTO_REUSE):\n",
    "    dqn = SequencialDuelingDQN(**rl_attributes)\n",
    "    \n",
    "saver1 = tf.train.Saver(var_list=tf.get_collection(tf.GraphKeys.GLOBAL_VARIABLES, scope='dqn'))\n",
    "saver2 = tf.train.Saver(var_list=tf.get_collection(tf.GraphKeys.GLOBAL_VARIABLES, scope='reward_model'))"
   ]
  },
  {
   "cell_type": "code",
   "execution_count": 11,
   "metadata": {},
   "outputs": [],
   "source": [
    "test_phy_prob_gain = []\n",
    "test_phy_est_prob_gain = []\n",
    "train_phy_prob_gain = []\n",
    "train_phy_est_prob_gain = []"
   ]
  },
  {
   "cell_type": "code",
   "execution_count": 12,
   "metadata": {},
   "outputs": [],
   "source": [
    "def process_exp_func_get_est_reward(sess, exp, reward_attributes):\n",
    "    s, a, r, s_, gamma = process_exp_func(exp, reward_attributes)\n",
    "    num_actions = a.shape[1]\n",
    "    phy_s = np.concatenate([exp['cur_state'], exp['cur_history'], a], axis=1)\n",
    "    phy_est_prob_gain = rew_estimator.get_output_i(sess, input_i=phy_s)\n",
    "    return exp['prob_gain'], phy_est_prob_gain"
   ]
  },
  {
   "cell_type": "code",
   "execution_count": 13,
   "metadata": {},
   "outputs": [
    {
     "name": "stdout",
     "output_type": "stream",
     "text": [
      "INFO:tensorflow:Restoring parameters from ../models/dqn_mimic-1221_random_order_search-g1-ac5.0e-04-gamma0.95-fold1.0-only_pos0-sd167-ad40-nn-10000-3-1-256-lr-0.0001-reg-0.0001-0.5-s-256-5000-i-50-500-3-1/model-0\n",
      "INFO:tensorflow:Restoring parameters from ../models/rew_m_normal1217-hl1-hu512-lr1e-06-reg0.01-kp0.8-bs128-r1/model-31\n",
      "Batch 0\n",
      "Batch 100\n",
      "Batch 200\n",
      "Batch 300\n",
      "Batch 400\n",
      "Batch 500\n",
      "Batch 0\n",
      "Batch 100\n",
      "Batch 200\n",
      "Batch 300\n",
      "Batch 400\n",
      "Batch 500\n"
     ]
    }
   ],
   "source": [
    "config = tf.ConfigProto()\n",
    "config.gpu_options.allow_growth = True\n",
    "with tf.Session(config=config) as sess:\n",
    "    saver1.restore(sess, args.policy_dir + 'model-%d' % rl_training_results['best_model_idx'])\n",
    "    saver2.restore(sess, args.reward_estimator_dir + 'model-%d' % rew_estimator_training_results['best_model_idx'])\n",
    "\n",
    "    test_loader = mimic_exp.gen_test_experience(sess=sess, batch_size=5000, shuffle=False)\n",
    "    train_loader = mimic_exp.gen_train_experience(sess=sess, batch_size=5000, shuffle=False)\n",
    "    \n",
    "    for idx, exp in enumerate(test_loader):\n",
    "        r, phy_est_prob_gain = process_exp_func_get_est_reward(sess, exp, reward_attributes)\n",
    "        test_phy_prob_gain.append(r)\n",
    "        test_phy_est_prob_gain.append(phy_est_prob_gain)\n",
    "        \n",
    "        if idx % 100 == 0:\n",
    "            print(f'Batch {idx}')\n",
    "    \n",
    "    for idx, exp in enumerate(train_loader):\n",
    "        r, phy_est_prob_gain = process_exp_func_get_est_reward(sess, exp, reward_attributes)\n",
    "        train_phy_prob_gain.append(r)\n",
    "        train_phy_est_prob_gain.append(phy_est_prob_gain)\n",
    "        \n",
    "        if idx % 100 == 0:\n",
    "            print(f'Batch {idx}')"
   ]
  },
  {
   "cell_type": "code",
   "execution_count": 14,
   "metadata": {},
   "outputs": [],
   "source": [
    "train_true = np.concatenate(train_phy_prob_gain)\n",
    "train_est = np.concatenate(train_phy_est_prob_gain)\n",
    "test_true = np.concatenate(test_phy_prob_gain)\n",
    "test_est = np.concatenate(test_phy_est_prob_gain)"
   ]
  },
  {
   "cell_type": "code",
   "execution_count": 15,
   "metadata": {},
   "outputs": [],
   "source": [
    "import pickle\n",
    "\n",
    "pickle.dump({'train_ture': train_true, 'train_est':train_est,\n",
    "             'test_true': test_true, 'test_true': test_est},\n",
    "           open('./1217_prob_gain.pkl', 'wb'))"
   ]
  },
  {
   "cell_type": "code",
   "execution_count": 16,
   "metadata": {},
   "outputs": [],
   "source": [
    "from sklearn.metrics import r2_score\n",
    "from scipy.stats import pearsonr"
   ]
  },
  {
   "cell_type": "code",
   "execution_count": 17,
   "metadata": {},
   "outputs": [
    {
     "data": {
      "text/plain": [
       "0.02610126533108026"
      ]
     },
     "execution_count": 17,
     "metadata": {},
     "output_type": "execute_result"
    }
   ],
   "source": [
    "r2_score(train_true, train_est)"
   ]
  },
  {
   "cell_type": "code",
   "execution_count": 23,
   "metadata": {},
   "outputs": [
    {
     "data": {
      "text/plain": [
       "2937680"
      ]
     },
     "execution_count": 23,
     "metadata": {},
     "output_type": "execute_result"
    }
   ],
   "source": [
    "len(train_est)"
   ]
  },
  {
   "cell_type": "code",
   "execution_count": 19,
   "metadata": {},
   "outputs": [
    {
     "data": {
      "text/plain": [
       "0.019478094854954442"
      ]
     },
     "execution_count": 19,
     "metadata": {},
     "output_type": "execute_result"
    }
   ],
   "source": [
    "r2_score(test_true, test_est )"
   ]
  },
  {
   "cell_type": "code",
   "execution_count": 47,
   "metadata": {},
   "outputs": [
    {
     "data": {
      "text/plain": [
       "0.05111498203565157"
      ]
     },
     "execution_count": 47,
     "metadata": {},
     "output_type": "execute_result"
    }
   ],
   "source": [
    "r2_score(train_true, train_est*3)"
   ]
  },
  {
   "cell_type": "code",
   "execution_count": 46,
   "metadata": {},
   "outputs": [
    {
     "data": {
      "text/plain": [
       "0.028194966235071117"
      ]
     },
     "execution_count": 46,
     "metadata": {},
     "output_type": "execute_result"
    }
   ],
   "source": [
    "r2_score(test_true, test_est*3)"
   ]
  },
  {
   "cell_type": "code",
   "execution_count": 41,
   "metadata": {},
   "outputs": [],
   "source": [
    "def standerdize(x):\n",
    "    return (x - np.mean(x)) / np.std(x)"
   ]
  },
  {
   "cell_type": "code",
   "execution_count": null,
   "metadata": {
    "scrolled": true
   },
   "outputs": [],
   "source": [
    "temp = []\n",
    "for i in np.arange(1, 500, 0.1):\n",
    "    temp.append(r2_score(train_true, (train_est * i)))"
   ]
  },
  {
   "cell_type": "code",
   "execution_count": null,
   "metadata": {
    "scrolled": true
   },
   "outputs": [],
   "source": [
    "max(temp)"
   ]
  },
  {
   "cell_type": "code",
   "execution_count": 39,
   "metadata": {},
   "outputs": [
    {
     "data": {
      "text/plain": [
       "[(2, 0.05111498203565157)]"
      ]
     },
     "execution_count": 39,
     "metadata": {},
     "output_type": "execute_result"
    }
   ],
   "source": [
    "[(i, v) for i, v in enumerate(temp) if v == max(temp)]"
   ]
  },
  {
   "cell_type": "code",
   "execution_count": 34,
   "metadata": {},
   "outputs": [
    {
     "data": {
      "text/plain": [
       "(2.6391019e-05, 8.354869e-05, -3.098831e-05, 2.6537282e-06)"
      ]
     },
     "execution_count": 34,
     "metadata": {},
     "output_type": "execute_result"
    }
   ],
   "source": [
    "np.mean(train_true), np.mean(train_est), np.mean(test_true), np.mean(test_est)"
   ]
  },
  {
   "cell_type": "code",
   "execution_count": 36,
   "metadata": {},
   "outputs": [
    {
     "data": {
      "text/plain": [
       "(0.00044692514, 0.00044692514, 0.00567252, 0.00040309288)"
      ]
     },
     "execution_count": 36,
     "metadata": {},
     "output_type": "execute_result"
    }
   ],
   "source": [
    "np.std(train_est), np.std(train_est), np.std(test_true), np.std(test_est)"
   ]
  },
  {
   "cell_type": "code",
   "execution_count": 42,
   "metadata": {},
   "outputs": [
    {
     "data": {
      "text/plain": [
       "-0.5384728577815019"
      ]
     },
     "execution_count": 42,
     "metadata": {},
     "output_type": "execute_result"
    }
   ],
   "source": [
    "r2_score(standerdize(train_true), standerdize(train_est))"
   ]
  },
  {
   "cell_type": "markdown",
   "metadata": {},
   "source": [
    "# train"
   ]
  },
  {
   "cell_type": "code",
   "execution_count": 37,
   "metadata": {
    "scrolled": true
   },
   "outputs": [
    {
     "data": {
      "image/png": "[encoded data removed]",
      "text/plain": [
       "<Figure size 864x576 with 1 Axes>"
      ]
     },
     "metadata": {
      "needs_background": "light"
     },
     "output_type": "display_data"
    }
   ],
   "source": [
    "plot_scatter_simple(train_true, train_est * 50, \n",
    "                    alpha=0.1, xlabel='train true prob gain', ylabel='train est prob gain')"
   ]
  },
  {
   "cell_type": "code",
   "execution_count": 43,
   "metadata": {
    "scrolled": true
   },
   "outputs": [
    {
     "data": {
      "image/png": "[encoded data removed]",
      "text/plain": [
       "<Figure size 864x576 with 1 Axes>"
      ]
     },
     "metadata": {
      "needs_background": "light"
     },
     "output_type": "display_data"
    }
   ],
   "source": [
    "plot_scatter_simple(standerdize(train_true), standerdize(train_est), \n",
    "                    alpha=0.1, xlabel='train true prob gain', ylabel='train est prob gain')"
   ]
  },
  {
   "cell_type": "markdown",
   "metadata": {},
   "source": [
    "# Test"
   ]
  },
  {
   "cell_type": "code",
   "execution_count": null,
   "metadata": {},
   "outputs": [],
   "source": [
    "plot_scatter_simple(test_true, test_est,\n",
    "                    alpha=0.1, xlabel='test true prob gain', ylabel='test est prob gain')"
   ]
  },
  {
   "cell_type": "code",
   "execution_count": null,
   "metadata": {},
   "outputs": [],
   "source": []
  }
 ],
 "metadata": {
  "kernelspec": {
   "display_name": "Python 3",
   "language": "python",
   "name": "python3"
  },
  "language_info": {
   "codemirror_mode": {
    "name": "ipython",
    "version": 3
   },
   "file_extension": ".py",
   "mimetype": "text/x-python",
   "name": "python",
   "nbconvert_exporter": "python",
   "pygments_lexer": "ipython3",
   "version": "3.6.5"
  },
  "varInspector": {
   "cols": {
    "lenName": 16,
    "lenType": 16,
    "lenVar": 40
   },
   "kernels_config": {
    "python": {
     "delete_cmd_postfix": "",
     "delete_cmd_prefix": "del ",
     "library": "var_list.py",
     "varRefreshCmd": "print(var_dic_list())"
    },
    "r": {
     "delete_cmd_postfix": ") ",
     "delete_cmd_prefix": "rm(",
     "library": "var_list.r",
     "varRefreshCmd": "cat(var_dic_list()) "
    }
   },
   "types_to_exclude": [
    "module",
    "function",
    "builtin_function_or_method",
    "instance",
    "_Feature"
   ],
   "window_display": false
  }
 },
 "nbformat": 4,
 "nbformat_minor": 2
}
