{
 "cells": [
  {
   "cell_type": "code",
   "execution_count": 5,
   "metadata": {},
   "outputs": [],
   "source": [
    "%matplotlib inline\n",
    "import matplotlib.pyplot as plt"
   ]
  },
  {
   "cell_type": "code",
   "execution_count": 8,
   "metadata": {},
   "outputs": [
    {
     "data": {
      "text/plain": [
       "'/Users/MJ/Desktop/projects/autodiagnosis/notebook'"
      ]
     },
     "execution_count": 8,
     "metadata": {},
     "output_type": "execute_result"
    }
   ],
   "source": [
    "os.getcwd()"
   ]
  },
  {
   "cell_type": "code",
   "execution_count": 6,
   "metadata": {},
   "outputs": [],
   "source": [
    "import pandas as pd\n",
    "import numpy as np"
   ]
  },
  {
   "cell_type": "code",
   "execution_count": 7,
   "metadata": {},
   "outputs": [
    {
     "ename": "FileNotFoundError",
     "evalue": "File b'../policy_training_and_evaluation/estimation/1227_val_regression_summary.csv' does not exist",
     "output_type": "error",
     "traceback": [
      "\u001b[0;31m---------------------------------------------------------------------------\u001b[0m",
      "\u001b[0;31mFileNotFoundError\u001b[0m                         Traceback (most recent call last)",
      "\u001b[0;32m<ipython-input-7-c28e59e85ac5>\u001b[0m in \u001b[0;36m<module>\u001b[0;34m()\u001b[0m\n\u001b[0;32m----> 1\u001b[0;31m \u001b[0mref_df1\u001b[0m \u001b[0;34m=\u001b[0m \u001b[0mpd\u001b[0m\u001b[0;34m.\u001b[0m\u001b[0mread_csv\u001b[0m\u001b[0;34m(\u001b[0m\u001b[0;34m'../policy_training_and_evaluation/estimation/1227_val_regression_summary.csv'\u001b[0m\u001b[0;34m)\u001b[0m\u001b[0;34m\u001b[0m\u001b[0m\n\u001b[0m\u001b[1;32m      2\u001b[0m \u001b[0mref_df2\u001b[0m \u001b[0;34m=\u001b[0m \u001b[0mpd\u001b[0m\u001b[0;34m.\u001b[0m\u001b[0mread_csv\u001b[0m\u001b[0;34m(\u001b[0m\u001b[0;34m'../policy_training_and_evaluation/estimation/1228_val_regression_summary.csv'\u001b[0m\u001b[0;34m)\u001b[0m\u001b[0;34m\u001b[0m\u001b[0m\n",
      "\u001b[0;32m~/miniconda3/envs/ml/lib/python3.6/site-packages/pandas/io/parsers.py\u001b[0m in \u001b[0;36mparser_f\u001b[0;34m(filepath_or_buffer, sep, delimiter, header, names, index_col, usecols, squeeze, prefix, mangle_dupe_cols, dtype, engine, converters, true_values, false_values, skipinitialspace, skiprows, nrows, na_values, keep_default_na, na_filter, verbose, skip_blank_lines, parse_dates, infer_datetime_format, keep_date_col, date_parser, dayfirst, iterator, chunksize, compression, thousands, decimal, lineterminator, quotechar, quoting, escapechar, comment, encoding, dialect, tupleize_cols, error_bad_lines, warn_bad_lines, skipfooter, doublequote, delim_whitespace, low_memory, memory_map, float_precision)\u001b[0m\n\u001b[1;32m    676\u001b[0m                     skip_blank_lines=skip_blank_lines)\n\u001b[1;32m    677\u001b[0m \u001b[0;34m\u001b[0m\u001b[0m\n\u001b[0;32m--> 678\u001b[0;31m         \u001b[0;32mreturn\u001b[0m \u001b[0m_read\u001b[0m\u001b[0;34m(\u001b[0m\u001b[0mfilepath_or_buffer\u001b[0m\u001b[0;34m,\u001b[0m \u001b[0mkwds\u001b[0m\u001b[0;34m)\u001b[0m\u001b[0;34m\u001b[0m\u001b[0m\n\u001b[0m\u001b[1;32m    679\u001b[0m \u001b[0;34m\u001b[0m\u001b[0m\n\u001b[1;32m    680\u001b[0m     \u001b[0mparser_f\u001b[0m\u001b[0;34m.\u001b[0m\u001b[0m__name__\u001b[0m \u001b[0;34m=\u001b[0m \u001b[0mname\u001b[0m\u001b[0;34m\u001b[0m\u001b[0m\n",
      "\u001b[0;32m~/miniconda3/envs/ml/lib/python3.6/site-packages/pandas/io/parsers.py\u001b[0m in \u001b[0;36m_read\u001b[0;34m(filepath_or_buffer, kwds)\u001b[0m\n\u001b[1;32m    438\u001b[0m \u001b[0;34m\u001b[0m\u001b[0m\n\u001b[1;32m    439\u001b[0m     \u001b[0;31m# Create the parser.\u001b[0m\u001b[0;34m\u001b[0m\u001b[0;34m\u001b[0m\u001b[0m\n\u001b[0;32m--> 440\u001b[0;31m     \u001b[0mparser\u001b[0m \u001b[0;34m=\u001b[0m \u001b[0mTextFileReader\u001b[0m\u001b[0;34m(\u001b[0m\u001b[0mfilepath_or_buffer\u001b[0m\u001b[0;34m,\u001b[0m \u001b[0;34m**\u001b[0m\u001b[0mkwds\u001b[0m\u001b[0;34m)\u001b[0m\u001b[0;34m\u001b[0m\u001b[0m\n\u001b[0m\u001b[1;32m    441\u001b[0m \u001b[0;34m\u001b[0m\u001b[0m\n\u001b[1;32m    442\u001b[0m     \u001b[0;32mif\u001b[0m \u001b[0mchunksize\u001b[0m \u001b[0;32mor\u001b[0m \u001b[0miterator\u001b[0m\u001b[0;34m:\u001b[0m\u001b[0;34m\u001b[0m\u001b[0m\n",
      "\u001b[0;32m~/miniconda3/envs/ml/lib/python3.6/site-packages/pandas/io/parsers.py\u001b[0m in \u001b[0;36m__init__\u001b[0;34m(self, f, engine, **kwds)\u001b[0m\n\u001b[1;32m    785\u001b[0m             \u001b[0mself\u001b[0m\u001b[0;34m.\u001b[0m\u001b[0moptions\u001b[0m\u001b[0;34m[\u001b[0m\u001b[0;34m'has_index_names'\u001b[0m\u001b[0;34m]\u001b[0m \u001b[0;34m=\u001b[0m \u001b[0mkwds\u001b[0m\u001b[0;34m[\u001b[0m\u001b[0;34m'has_index_names'\u001b[0m\u001b[0;34m]\u001b[0m\u001b[0;34m\u001b[0m\u001b[0m\n\u001b[1;32m    786\u001b[0m \u001b[0;34m\u001b[0m\u001b[0m\n\u001b[0;32m--> 787\u001b[0;31m         \u001b[0mself\u001b[0m\u001b[0;34m.\u001b[0m\u001b[0m_make_engine\u001b[0m\u001b[0;34m(\u001b[0m\u001b[0mself\u001b[0m\u001b[0;34m.\u001b[0m\u001b[0mengine\u001b[0m\u001b[0;34m)\u001b[0m\u001b[0;34m\u001b[0m\u001b[0m\n\u001b[0m\u001b[1;32m    788\u001b[0m \u001b[0;34m\u001b[0m\u001b[0m\n\u001b[1;32m    789\u001b[0m     \u001b[0;32mdef\u001b[0m \u001b[0mclose\u001b[0m\u001b[0;34m(\u001b[0m\u001b[0mself\u001b[0m\u001b[0;34m)\u001b[0m\u001b[0;34m:\u001b[0m\u001b[0;34m\u001b[0m\u001b[0m\n",
      "\u001b[0;32m~/miniconda3/envs/ml/lib/python3.6/site-packages/pandas/io/parsers.py\u001b[0m in \u001b[0;36m_make_engine\u001b[0;34m(self, engine)\u001b[0m\n\u001b[1;32m   1012\u001b[0m     \u001b[0;32mdef\u001b[0m \u001b[0m_make_engine\u001b[0m\u001b[0;34m(\u001b[0m\u001b[0mself\u001b[0m\u001b[0;34m,\u001b[0m \u001b[0mengine\u001b[0m\u001b[0;34m=\u001b[0m\u001b[0;34m'c'\u001b[0m\u001b[0;34m)\u001b[0m\u001b[0;34m:\u001b[0m\u001b[0;34m\u001b[0m\u001b[0m\n\u001b[1;32m   1013\u001b[0m         \u001b[0;32mif\u001b[0m \u001b[0mengine\u001b[0m \u001b[0;34m==\u001b[0m \u001b[0;34m'c'\u001b[0m\u001b[0;34m:\u001b[0m\u001b[0;34m\u001b[0m\u001b[0m\n\u001b[0;32m-> 1014\u001b[0;31m             \u001b[0mself\u001b[0m\u001b[0;34m.\u001b[0m\u001b[0m_engine\u001b[0m \u001b[0;34m=\u001b[0m \u001b[0mCParserWrapper\u001b[0m\u001b[0;34m(\u001b[0m\u001b[0mself\u001b[0m\u001b[0;34m.\u001b[0m\u001b[0mf\u001b[0m\u001b[0;34m,\u001b[0m \u001b[0;34m**\u001b[0m\u001b[0mself\u001b[0m\u001b[0;34m.\u001b[0m\u001b[0moptions\u001b[0m\u001b[0;34m)\u001b[0m\u001b[0;34m\u001b[0m\u001b[0m\n\u001b[0m\u001b[1;32m   1015\u001b[0m         \u001b[0;32melse\u001b[0m\u001b[0;34m:\u001b[0m\u001b[0;34m\u001b[0m\u001b[0m\n\u001b[1;32m   1016\u001b[0m             \u001b[0;32mif\u001b[0m \u001b[0mengine\u001b[0m \u001b[0;34m==\u001b[0m \u001b[0;34m'python'\u001b[0m\u001b[0;34m:\u001b[0m\u001b[0;34m\u001b[0m\u001b[0m\n",
      "\u001b[0;32m~/miniconda3/envs/ml/lib/python3.6/site-packages/pandas/io/parsers.py\u001b[0m in \u001b[0;36m__init__\u001b[0;34m(self, src, **kwds)\u001b[0m\n\u001b[1;32m   1706\u001b[0m         \u001b[0mkwds\u001b[0m\u001b[0;34m[\u001b[0m\u001b[0;34m'usecols'\u001b[0m\u001b[0;34m]\u001b[0m \u001b[0;34m=\u001b[0m \u001b[0mself\u001b[0m\u001b[0;34m.\u001b[0m\u001b[0musecols\u001b[0m\u001b[0;34m\u001b[0m\u001b[0m\n\u001b[1;32m   1707\u001b[0m \u001b[0;34m\u001b[0m\u001b[0m\n\u001b[0;32m-> 1708\u001b[0;31m         \u001b[0mself\u001b[0m\u001b[0;34m.\u001b[0m\u001b[0m_reader\u001b[0m \u001b[0;34m=\u001b[0m \u001b[0mparsers\u001b[0m\u001b[0;34m.\u001b[0m\u001b[0mTextReader\u001b[0m\u001b[0;34m(\u001b[0m\u001b[0msrc\u001b[0m\u001b[0;34m,\u001b[0m \u001b[0;34m**\u001b[0m\u001b[0mkwds\u001b[0m\u001b[0;34m)\u001b[0m\u001b[0;34m\u001b[0m\u001b[0m\n\u001b[0m\u001b[1;32m   1709\u001b[0m \u001b[0;34m\u001b[0m\u001b[0m\n\u001b[1;32m   1710\u001b[0m         \u001b[0mpassed_names\u001b[0m \u001b[0;34m=\u001b[0m \u001b[0mself\u001b[0m\u001b[0;34m.\u001b[0m\u001b[0mnames\u001b[0m \u001b[0;32mis\u001b[0m \u001b[0;32mNone\u001b[0m\u001b[0;34m\u001b[0m\u001b[0m\n",
      "\u001b[0;32mpandas/_libs/parsers.pyx\u001b[0m in \u001b[0;36mpandas._libs.parsers.TextReader.__cinit__\u001b[0;34m()\u001b[0m\n",
      "\u001b[0;32mpandas/_libs/parsers.pyx\u001b[0m in \u001b[0;36mpandas._libs.parsers.TextReader._setup_parser_source\u001b[0;34m()\u001b[0m\n",
      "\u001b[0;31mFileNotFoundError\u001b[0m: File b'../policy_training_and_evaluation/estimation/1227_val_regression_summary.csv' does not exist"
     ]
    }
   ],
   "source": [
    "ref_df1 = pd.read_csv('../policy_training_and_evaluation/estimation/1227_val_regression_summary.csv')\n",
    "ref_df2 = pd.read_csv('../policy_training_and_evaluation/estimation/1228_val_regression_summary.csv')"
   ]
  },
  {
   "cell_type": "code",
   "execution_count": 4,
   "metadata": {},
   "outputs": [
    {
     "data": {
      "text/html": [
       "<div>\n",
       "<style scoped>\n",
       "    .dataframe tbody tr th:only-of-type {\n",
       "        vertical-align: middle;\n",
       "    }\n",
       "\n",
       "    .dataframe tbody tr th {\n",
       "        vertical-align: top;\n",
       "    }\n",
       "\n",
       "    .dataframe thead th {\n",
       "        text-align: right;\n",
       "    }\n",
       "</style>\n",
       "<table border=\"1\" class=\"dataframe\">\n",
       "  <thead>\n",
       "    <tr style=\"text-align: right;\">\n",
       "      <th></th>\n",
       "      <th>test_loss</th>\n",
       "      <th>mean_agent_info_gains</th>\n",
       "      <th>mean_agent_action_costs</th>\n",
       "      <th>overall_agent_reward</th>\n",
       "      <th>mean_phy_info_gains</th>\n",
       "      <th>mean_phy_action_costs</th>\n",
       "      <th>overall_phy_reward</th>\n",
       "      <th>mean_rand_info_gains</th>\n",
       "      <th>mean_rand_action_costs</th>\n",
       "      <th>overall_rand_reward</th>\n",
       "      <th>policy_dir</th>\n",
       "      <th>num_patients</th>\n",
       "      <th>identifier</th>\n",
       "      <th>reward_estimator_dir</th>\n",
       "      <th>cache_dir</th>\n",
       "    </tr>\n",
       "  </thead>\n",
       "  <tbody>\n",
       "    <tr>\n",
       "      <th>0</th>\n",
       "      <td>0.181840</td>\n",
       "      <td>0.000375</td>\n",
       "      <td>0.029599</td>\n",
       "      <td>-0.029224</td>\n",
       "      <td>-0.00014</td>\n",
       "      <td>0.023239</td>\n",
       "      <td>-0.023378</td>\n",
       "      <td>-0.000305</td>\n",
       "      <td>0.030862</td>\n",
       "      <td>-0.031167</td>\n",
       "      <td>../models/dqn_mimic-1221_random_order_search-g...</td>\n",
       "      <td>6076</td>\n",
       "      <td>debug_</td>\n",
       "      <td>../models/rew_m_normal1217-hl1-hu512-lr1e-06-r...</td>\n",
       "      <td>../RL_exp_cache/1128-30mins-24hrs-20order-rnn-...</td>\n",
       "    </tr>\n",
       "    <tr>\n",
       "      <th>1</th>\n",
       "      <td>0.011927</td>\n",
       "      <td>-0.001292</td>\n",
       "      <td>0.031746</td>\n",
       "      <td>-0.033038</td>\n",
       "      <td>-0.00014</td>\n",
       "      <td>0.023239</td>\n",
       "      <td>-0.023378</td>\n",
       "      <td>-0.000305</td>\n",
       "      <td>0.030862</td>\n",
       "      <td>-0.031167</td>\n",
       "      <td>../models/dqn_mimic-1221_random_order_search-g...</td>\n",
       "      <td>6076</td>\n",
       "      <td>debug_</td>\n",
       "      <td>../models/rew_m_normal1217-hl1-hu512-lr1e-06-r...</td>\n",
       "      <td>../RL_exp_cache/1128-30mins-24hrs-20order-rnn-...</td>\n",
       "    </tr>\n",
       "    <tr>\n",
       "      <th>2</th>\n",
       "      <td>34797.270896</td>\n",
       "      <td>0.001710</td>\n",
       "      <td>0.031746</td>\n",
       "      <td>-0.030036</td>\n",
       "      <td>-0.00014</td>\n",
       "      <td>0.023239</td>\n",
       "      <td>-0.023378</td>\n",
       "      <td>-0.000305</td>\n",
       "      <td>0.030862</td>\n",
       "      <td>-0.031167</td>\n",
       "      <td>../models/dqn_mimic-1221_random_order_search-g...</td>\n",
       "      <td>6076</td>\n",
       "      <td>debug_</td>\n",
       "      <td>../models/rew_m_normal1217-hl1-hu512-lr1e-06-r...</td>\n",
       "      <td>../RL_exp_cache/1128-30mins-24hrs-20order-rnn-...</td>\n",
       "    </tr>\n",
       "    <tr>\n",
       "      <th>3</th>\n",
       "      <td>10.503510</td>\n",
       "      <td>-0.000318</td>\n",
       "      <td>0.031218</td>\n",
       "      <td>-0.031536</td>\n",
       "      <td>-0.00014</td>\n",
       "      <td>0.023239</td>\n",
       "      <td>-0.023378</td>\n",
       "      <td>-0.000305</td>\n",
       "      <td>0.030862</td>\n",
       "      <td>-0.031167</td>\n",
       "      <td>../models/dqn_mimic-1221_random_order_search-g...</td>\n",
       "      <td>6076</td>\n",
       "      <td>debug_</td>\n",
       "      <td>../models/rew_m_normal1217-hl1-hu512-lr1e-06-r...</td>\n",
       "      <td>../RL_exp_cache/1128-30mins-24hrs-20order-rnn-...</td>\n",
       "    </tr>\n",
       "    <tr>\n",
       "      <th>4</th>\n",
       "      <td>50080.353307</td>\n",
       "      <td>-0.001677</td>\n",
       "      <td>0.031745</td>\n",
       "      <td>-0.033423</td>\n",
       "      <td>-0.00014</td>\n",
       "      <td>0.023239</td>\n",
       "      <td>-0.023378</td>\n",
       "      <td>-0.000305</td>\n",
       "      <td>0.030862</td>\n",
       "      <td>-0.031167</td>\n",
       "      <td>../models/dqn_mimic-1221_random_order_search-g...</td>\n",
       "      <td>6076</td>\n",
       "      <td>debug_</td>\n",
       "      <td>../models/rew_m_normal1217-hl1-hu512-lr1e-06-r...</td>\n",
       "      <td>../RL_exp_cache/1128-30mins-24hrs-20order-rnn-...</td>\n",
       "    </tr>\n",
       "  </tbody>\n",
       "</table>\n",
       "</div>"
      ],
      "text/plain": [
       "      test_loss  mean_agent_info_gains  mean_agent_action_costs  \\\n",
       "0      0.181840               0.000375                 0.029599   \n",
       "1      0.011927              -0.001292                 0.031746   \n",
       "2  34797.270896               0.001710                 0.031746   \n",
       "3     10.503510              -0.000318                 0.031218   \n",
       "4  50080.353307              -0.001677                 0.031745   \n",
       "\n",
       "   overall_agent_reward  mean_phy_info_gains  mean_phy_action_costs  \\\n",
       "0             -0.029224             -0.00014               0.023239   \n",
       "1             -0.033038             -0.00014               0.023239   \n",
       "2             -0.030036             -0.00014               0.023239   \n",
       "3             -0.031536             -0.00014               0.023239   \n",
       "4             -0.033423             -0.00014               0.023239   \n",
       "\n",
       "   overall_phy_reward  mean_rand_info_gains  mean_rand_action_costs  \\\n",
       "0           -0.023378             -0.000305                0.030862   \n",
       "1           -0.023378             -0.000305                0.030862   \n",
       "2           -0.023378             -0.000305                0.030862   \n",
       "3           -0.023378             -0.000305                0.030862   \n",
       "4           -0.023378             -0.000305                0.030862   \n",
       "\n",
       "   overall_rand_reward                                         policy_dir  \\\n",
       "0            -0.031167  ../models/dqn_mimic-1221_random_order_search-g...   \n",
       "1            -0.031167  ../models/dqn_mimic-1221_random_order_search-g...   \n",
       "2            -0.031167  ../models/dqn_mimic-1221_random_order_search-g...   \n",
       "3            -0.031167  ../models/dqn_mimic-1221_random_order_search-g...   \n",
       "4            -0.031167  ../models/dqn_mimic-1221_random_order_search-g...   \n",
       "\n",
       "   num_patients identifier                               reward_estimator_dir  \\\n",
       "0          6076     debug_  ../models/rew_m_normal1217-hl1-hu512-lr1e-06-r...   \n",
       "1          6076     debug_  ../models/rew_m_normal1217-hl1-hu512-lr1e-06-r...   \n",
       "2          6076     debug_  ../models/rew_m_normal1217-hl1-hu512-lr1e-06-r...   \n",
       "3          6076     debug_  ../models/rew_m_normal1217-hl1-hu512-lr1e-06-r...   \n",
       "4          6076     debug_  ../models/rew_m_normal1217-hl1-hu512-lr1e-06-r...   \n",
       "\n",
       "                                           cache_dir  \n",
       "0  ../RL_exp_cache/1128-30mins-24hrs-20order-rnn-...  \n",
       "1  ../RL_exp_cache/1128-30mins-24hrs-20order-rnn-...  \n",
       "2  ../RL_exp_cache/1128-30mins-24hrs-20order-rnn-...  \n",
       "3  ../RL_exp_cache/1128-30mins-24hrs-20order-rnn-...  \n",
       "4  ../RL_exp_cache/1128-30mins-24hrs-20order-rnn-...  "
      ]
     },
     "execution_count": 4,
     "metadata": {},
     "output_type": "execute_result"
    }
   ],
   "source": [
    "ref_df1.head(5)"
   ]
  },
  {
   "cell_type": "code",
   "execution_count": 5,
   "metadata": {},
   "outputs": [
    {
     "data": {
      "text/html": [
       "<div>\n",
       "<style scoped>\n",
       "    .dataframe tbody tr th:only-of-type {\n",
       "        vertical-align: middle;\n",
       "    }\n",
       "\n",
       "    .dataframe tbody tr th {\n",
       "        vertical-align: top;\n",
       "    }\n",
       "\n",
       "    .dataframe thead th {\n",
       "        text-align: right;\n",
       "    }\n",
       "</style>\n",
       "<table border=\"1\" class=\"dataframe\">\n",
       "  <thead>\n",
       "    <tr style=\"text-align: right;\">\n",
       "      <th></th>\n",
       "      <th>test_loss</th>\n",
       "      <th>policy_dir</th>\n",
       "      <th>identifier</th>\n",
       "      <th>reward_estimator_dir</th>\n",
       "      <th>cache_dir</th>\n",
       "      <th>action_cost_coef</th>\n",
       "      <th>gain_coef</th>\n",
       "      <th>mean_agent_info_gains</th>\n",
       "      <th>mean_agent_action_costs</th>\n",
       "      <th>overall_agent_reward</th>\n",
       "      <th>mean_phy_info_gains</th>\n",
       "      <th>mean_phy_action_costs</th>\n",
       "      <th>overall_phy_reward</th>\n",
       "      <th>mean_rand_info_gains</th>\n",
       "      <th>mean_rand_action_costs</th>\n",
       "      <th>overall_rand_reward</th>\n",
       "    </tr>\n",
       "  </thead>\n",
       "  <tbody>\n",
       "    <tr>\n",
       "      <th>32</th>\n",
       "      <td>183.309303</td>\n",
       "      <td>../models/dqn_mimic-1228_roc_curve-g1-ac1.0e-0...</td>\n",
       "      <td>debug_</td>\n",
       "      <td>../models/rew_m_normal1217-hl1-hu512-lr1e-06-r...</td>\n",
       "      <td>../RL_exp_cache/1128-30mins-24hrs-20order-rnn-...</td>\n",
       "      <td>0.00001</td>\n",
       "      <td>1</td>\n",
       "      <td>-0.000403</td>\n",
       "      <td>62.002363</td>\n",
       "      <td>-62.002765</td>\n",
       "      <td>-0.00014</td>\n",
       "      <td>46.477027</td>\n",
       "      <td>-46.477167</td>\n",
       "      <td>-0.000305</td>\n",
       "      <td>61.724813</td>\n",
       "      <td>-61.725118</td>\n",
       "    </tr>\n",
       "    <tr>\n",
       "      <th>33</th>\n",
       "      <td>0.002119</td>\n",
       "      <td>../models/dqn_mimic-1228_roc_curve-g1-ac1.0e-0...</td>\n",
       "      <td>debug_</td>\n",
       "      <td>../models/rew_m_normal1217-hl1-hu512-lr1e-06-r...</td>\n",
       "      <td>../RL_exp_cache/1128-30mins-24hrs-20order-rnn-...</td>\n",
       "      <td>0.00001</td>\n",
       "      <td>1</td>\n",
       "      <td>-0.000977</td>\n",
       "      <td>63.492681</td>\n",
       "      <td>-63.493658</td>\n",
       "      <td>-0.00014</td>\n",
       "      <td>46.477027</td>\n",
       "      <td>-46.477167</td>\n",
       "      <td>-0.000305</td>\n",
       "      <td>61.724813</td>\n",
       "      <td>-61.725118</td>\n",
       "    </tr>\n",
       "    <tr>\n",
       "      <th>34</th>\n",
       "      <td>1252.500249</td>\n",
       "      <td>../models/dqn_mimic-1228_roc_curve-g1-ac2.0e-0...</td>\n",
       "      <td>debug_</td>\n",
       "      <td>../models/rew_m_normal1217-hl1-hu512-lr1e-06-r...</td>\n",
       "      <td>../RL_exp_cache/1128-30mins-24hrs-20order-rnn-...</td>\n",
       "      <td>0.00200</td>\n",
       "      <td>1</td>\n",
       "      <td>-0.001663</td>\n",
       "      <td>24.535831</td>\n",
       "      <td>-24.537494</td>\n",
       "      <td>-0.00014</td>\n",
       "      <td>46.477027</td>\n",
       "      <td>-46.477167</td>\n",
       "      <td>-0.000305</td>\n",
       "      <td>61.724813</td>\n",
       "      <td>-61.725118</td>\n",
       "    </tr>\n",
       "    <tr>\n",
       "      <th>35</th>\n",
       "      <td>0.106815</td>\n",
       "      <td>../models/dqn_mimic-1228_roc_curve-g1-ac1.0e-0...</td>\n",
       "      <td>debug_</td>\n",
       "      <td>../models/rew_m_normal1217-hl1-hu512-lr1e-06-r...</td>\n",
       "      <td>../RL_exp_cache/1128-30mins-24hrs-20order-rnn-...</td>\n",
       "      <td>0.00001</td>\n",
       "      <td>1</td>\n",
       "      <td>-0.001315</td>\n",
       "      <td>0.850250</td>\n",
       "      <td>-0.851565</td>\n",
       "      <td>-0.00014</td>\n",
       "      <td>46.477027</td>\n",
       "      <td>-46.477167</td>\n",
       "      <td>-0.000305</td>\n",
       "      <td>61.724813</td>\n",
       "      <td>-61.725118</td>\n",
       "    </tr>\n",
       "    <tr>\n",
       "      <th>36</th>\n",
       "      <td>0.041432</td>\n",
       "      <td>../models/dqn_mimic-1228_roc_curve-g1-ac1.0e-0...</td>\n",
       "      <td>debug_</td>\n",
       "      <td>../models/rew_m_normal1217-hl1-hu512-lr1e-06-r...</td>\n",
       "      <td>../RL_exp_cache/1128-30mins-24hrs-20order-rnn-...</td>\n",
       "      <td>0.00001</td>\n",
       "      <td>1</td>\n",
       "      <td>0.000212</td>\n",
       "      <td>54.365304</td>\n",
       "      <td>-54.365092</td>\n",
       "      <td>-0.00014</td>\n",
       "      <td>46.477027</td>\n",
       "      <td>-46.477167</td>\n",
       "      <td>-0.000305</td>\n",
       "      <td>61.724813</td>\n",
       "      <td>-61.725118</td>\n",
       "    </tr>\n",
       "  </tbody>\n",
       "</table>\n",
       "</div>"
      ],
      "text/plain": [
       "      test_loss                                         policy_dir identifier  \\\n",
       "32   183.309303  ../models/dqn_mimic-1228_roc_curve-g1-ac1.0e-0...     debug_   \n",
       "33     0.002119  ../models/dqn_mimic-1228_roc_curve-g1-ac1.0e-0...     debug_   \n",
       "34  1252.500249  ../models/dqn_mimic-1228_roc_curve-g1-ac2.0e-0...     debug_   \n",
       "35     0.106815  ../models/dqn_mimic-1228_roc_curve-g1-ac1.0e-0...     debug_   \n",
       "36     0.041432  ../models/dqn_mimic-1228_roc_curve-g1-ac1.0e-0...     debug_   \n",
       "\n",
       "                                 reward_estimator_dir  \\\n",
       "32  ../models/rew_m_normal1217-hl1-hu512-lr1e-06-r...   \n",
       "33  ../models/rew_m_normal1217-hl1-hu512-lr1e-06-r...   \n",
       "34  ../models/rew_m_normal1217-hl1-hu512-lr1e-06-r...   \n",
       "35  ../models/rew_m_normal1217-hl1-hu512-lr1e-06-r...   \n",
       "36  ../models/rew_m_normal1217-hl1-hu512-lr1e-06-r...   \n",
       "\n",
       "                                            cache_dir  action_cost_coef  \\\n",
       "32  ../RL_exp_cache/1128-30mins-24hrs-20order-rnn-...           0.00001   \n",
       "33  ../RL_exp_cache/1128-30mins-24hrs-20order-rnn-...           0.00001   \n",
       "34  ../RL_exp_cache/1128-30mins-24hrs-20order-rnn-...           0.00200   \n",
       "35  ../RL_exp_cache/1128-30mins-24hrs-20order-rnn-...           0.00001   \n",
       "36  ../RL_exp_cache/1128-30mins-24hrs-20order-rnn-...           0.00001   \n",
       "\n",
       "    gain_coef  mean_agent_info_gains  mean_agent_action_costs  \\\n",
       "32          1              -0.000403                62.002363   \n",
       "33          1              -0.000977                63.492681   \n",
       "34          1              -0.001663                24.535831   \n",
       "35          1              -0.001315                 0.850250   \n",
       "36          1               0.000212                54.365304   \n",
       "\n",
       "    overall_agent_reward  mean_phy_info_gains  mean_phy_action_costs  \\\n",
       "32            -62.002765             -0.00014              46.477027   \n",
       "33            -63.493658             -0.00014              46.477027   \n",
       "34            -24.537494             -0.00014              46.477027   \n",
       "35             -0.851565             -0.00014              46.477027   \n",
       "36            -54.365092             -0.00014              46.477027   \n",
       "\n",
       "    overall_phy_reward  mean_rand_info_gains  mean_rand_action_costs  \\\n",
       "32          -46.477167             -0.000305               61.724813   \n",
       "33          -46.477167             -0.000305               61.724813   \n",
       "34          -46.477167             -0.000305               61.724813   \n",
       "35          -46.477167             -0.000305               61.724813   \n",
       "36          -46.477167             -0.000305               61.724813   \n",
       "\n",
       "    overall_rand_reward  \n",
       "32           -61.725118  \n",
       "33           -61.725118  \n",
       "34           -61.725118  \n",
       "35           -61.725118  \n",
       "36           -61.725118  "
      ]
     },
     "execution_count": 5,
     "metadata": {},
     "output_type": "execute_result"
    }
   ],
   "source": [
    "ref_df2.tail(5)"
   ]
  },
  {
   "cell_type": "markdown",
   "metadata": {},
   "source": [
    "#46.477027"
   ]
  },
  {
   "cell_type": "code",
   "execution_count": 6,
   "metadata": {},
   "outputs": [],
   "source": [
    "# df = pd.read_csv('val_regression_summary.csv') \n",
    "df = pd.read_csv('../policy_training_and_evaluation/estimation/0101_val_regression_summary.csv')\n",
    "rand_df = pd.read_csv('../temp/1228_policy_evaluation.csv')"
   ]
  },
  {
   "cell_type": "code",
   "execution_count": 7,
   "metadata": {},
   "outputs": [
    {
     "data": {
      "text/html": [
       "<div>\n",
       "<style scoped>\n",
       "    .dataframe tbody tr th:only-of-type {\n",
       "        vertical-align: middle;\n",
       "    }\n",
       "\n",
       "    .dataframe tbody tr th {\n",
       "        vertical-align: top;\n",
       "    }\n",
       "\n",
       "    .dataframe thead th {\n",
       "        text-align: right;\n",
       "    }\n",
       "</style>\n",
       "<table border=\"1\" class=\"dataframe\">\n",
       "  <thead>\n",
       "    <tr style=\"text-align: right;\">\n",
       "      <th></th>\n",
       "      <th>test_loss</th>\n",
       "      <th>mean_agent_info_gains</th>\n",
       "      <th>mean_agent_action_costs</th>\n",
       "      <th>overall_agent_reward</th>\n",
       "      <th>mean_phy_info_gains</th>\n",
       "      <th>mean_phy_action_costs</th>\n",
       "      <th>overall_phy_reward</th>\n",
       "      <th>mean_rand_info_gains</th>\n",
       "      <th>mean_rand_action_costs</th>\n",
       "      <th>overall_rand_reward</th>\n",
       "      <th>policy_dir</th>\n",
       "      <th>num_patients</th>\n",
       "      <th>identifier</th>\n",
       "      <th>reward_estimator_dir</th>\n",
       "      <th>cache_dir</th>\n",
       "    </tr>\n",
       "  </thead>\n",
       "  <tbody>\n",
       "    <tr>\n",
       "      <th>0</th>\n",
       "      <td>0.693428</td>\n",
       "      <td>-0.000440</td>\n",
       "      <td>0.000000</td>\n",
       "      <td>-0.000440</td>\n",
       "      <td>-0.00014</td>\n",
       "      <td>0.000000</td>\n",
       "      <td>-0.000140</td>\n",
       "      <td>-0.000305</td>\n",
       "      <td>0.000000</td>\n",
       "      <td>-0.000305</td>\n",
       "      <td>../models/dqn_mimic-0101_roc_curve-g1-ac0.0e+0...</td>\n",
       "      <td>6076</td>\n",
       "      <td>0101_</td>\n",
       "      <td>../models/rew_m_normal1217-hl1-hu512-lr1e-06-r...</td>\n",
       "      <td>../RL_exp_cache/1128-30mins-24hrs-20order-rnn-...</td>\n",
       "    </tr>\n",
       "    <tr>\n",
       "      <th>1</th>\n",
       "      <td>1.179331</td>\n",
       "      <td>-0.000130</td>\n",
       "      <td>0.528338</td>\n",
       "      <td>-0.528468</td>\n",
       "      <td>-0.00014</td>\n",
       "      <td>0.464770</td>\n",
       "      <td>-0.464910</td>\n",
       "      <td>-0.000305</td>\n",
       "      <td>0.617248</td>\n",
       "      <td>-0.617553</td>\n",
       "      <td>../models/dqn_mimic-0101_roc_curve-g1-ac1.0e-0...</td>\n",
       "      <td>6076</td>\n",
       "      <td>0101_</td>\n",
       "      <td>../models/rew_m_normal1217-hl1-hu512-lr1e-06-r...</td>\n",
       "      <td>../RL_exp_cache/1128-30mins-24hrs-20order-rnn-...</td>\n",
       "    </tr>\n",
       "    <tr>\n",
       "      <th>2</th>\n",
       "      <td>0.839615</td>\n",
       "      <td>-0.000585</td>\n",
       "      <td>0.051767</td>\n",
       "      <td>-0.052351</td>\n",
       "      <td>-0.00014</td>\n",
       "      <td>0.046477</td>\n",
       "      <td>-0.046617</td>\n",
       "      <td>-0.000305</td>\n",
       "      <td>0.061725</td>\n",
       "      <td>-0.062030</td>\n",
       "      <td>../models/dqn_mimic-0101_roc_curve-g1-ac1.0e-0...</td>\n",
       "      <td>6076</td>\n",
       "      <td>0101_</td>\n",
       "      <td>../models/rew_m_normal1217-hl1-hu512-lr1e-06-r...</td>\n",
       "      <td>../RL_exp_cache/1128-30mins-24hrs-20order-rnn-...</td>\n",
       "    </tr>\n",
       "    <tr>\n",
       "      <th>3</th>\n",
       "      <td>0.898216</td>\n",
       "      <td>-0.000835</td>\n",
       "      <td>0.005397</td>\n",
       "      <td>-0.006233</td>\n",
       "      <td>-0.00014</td>\n",
       "      <td>0.004648</td>\n",
       "      <td>-0.004787</td>\n",
       "      <td>-0.000305</td>\n",
       "      <td>0.006172</td>\n",
       "      <td>-0.006477</td>\n",
       "      <td>../models/dqn_mimic-0101_roc_curve-g1-ac1.0e-0...</td>\n",
       "      <td>6076</td>\n",
       "      <td>0101_</td>\n",
       "      <td>../models/rew_m_normal1217-hl1-hu512-lr1e-06-r...</td>\n",
       "      <td>../RL_exp_cache/1128-30mins-24hrs-20order-rnn-...</td>\n",
       "    </tr>\n",
       "    <tr>\n",
       "      <th>4</th>\n",
       "      <td>0.760082</td>\n",
       "      <td>0.000153</td>\n",
       "      <td>0.000547</td>\n",
       "      <td>-0.000393</td>\n",
       "      <td>-0.00014</td>\n",
       "      <td>0.000465</td>\n",
       "      <td>-0.000604</td>\n",
       "      <td>-0.000305</td>\n",
       "      <td>0.000617</td>\n",
       "      <td>-0.000922</td>\n",
       "      <td>../models/dqn_mimic-0101_roc_curve-g1-ac1.0e-0...</td>\n",
       "      <td>6076</td>\n",
       "      <td>0101_</td>\n",
       "      <td>../models/rew_m_normal1217-hl1-hu512-lr1e-06-r...</td>\n",
       "      <td>../RL_exp_cache/1128-30mins-24hrs-20order-rnn-...</td>\n",
       "    </tr>\n",
       "  </tbody>\n",
       "</table>\n",
       "</div>"
      ],
      "text/plain": [
       "   test_loss  mean_agent_info_gains  mean_agent_action_costs  \\\n",
       "0   0.693428              -0.000440                 0.000000   \n",
       "1   1.179331              -0.000130                 0.528338   \n",
       "2   0.839615              -0.000585                 0.051767   \n",
       "3   0.898216              -0.000835                 0.005397   \n",
       "4   0.760082               0.000153                 0.000547   \n",
       "\n",
       "   overall_agent_reward  mean_phy_info_gains  mean_phy_action_costs  \\\n",
       "0             -0.000440             -0.00014               0.000000   \n",
       "1             -0.528468             -0.00014               0.464770   \n",
       "2             -0.052351             -0.00014               0.046477   \n",
       "3             -0.006233             -0.00014               0.004648   \n",
       "4             -0.000393             -0.00014               0.000465   \n",
       "\n",
       "   overall_phy_reward  mean_rand_info_gains  mean_rand_action_costs  \\\n",
       "0           -0.000140             -0.000305                0.000000   \n",
       "1           -0.464910             -0.000305                0.617248   \n",
       "2           -0.046617             -0.000305                0.061725   \n",
       "3           -0.004787             -0.000305                0.006172   \n",
       "4           -0.000604             -0.000305                0.000617   \n",
       "\n",
       "   overall_rand_reward                                         policy_dir  \\\n",
       "0            -0.000305  ../models/dqn_mimic-0101_roc_curve-g1-ac0.0e+0...   \n",
       "1            -0.617553  ../models/dqn_mimic-0101_roc_curve-g1-ac1.0e-0...   \n",
       "2            -0.062030  ../models/dqn_mimic-0101_roc_curve-g1-ac1.0e-0...   \n",
       "3            -0.006477  ../models/dqn_mimic-0101_roc_curve-g1-ac1.0e-0...   \n",
       "4            -0.000922  ../models/dqn_mimic-0101_roc_curve-g1-ac1.0e-0...   \n",
       "\n",
       "   num_patients identifier                               reward_estimator_dir  \\\n",
       "0          6076      0101_  ../models/rew_m_normal1217-hl1-hu512-lr1e-06-r...   \n",
       "1          6076      0101_  ../models/rew_m_normal1217-hl1-hu512-lr1e-06-r...   \n",
       "2          6076      0101_  ../models/rew_m_normal1217-hl1-hu512-lr1e-06-r...   \n",
       "3          6076      0101_  ../models/rew_m_normal1217-hl1-hu512-lr1e-06-r...   \n",
       "4          6076      0101_  ../models/rew_m_normal1217-hl1-hu512-lr1e-06-r...   \n",
       "\n",
       "                                           cache_dir  \n",
       "0  ../RL_exp_cache/1128-30mins-24hrs-20order-rnn-...  \n",
       "1  ../RL_exp_cache/1128-30mins-24hrs-20order-rnn-...  \n",
       "2  ../RL_exp_cache/1128-30mins-24hrs-20order-rnn-...  \n",
       "3  ../RL_exp_cache/1128-30mins-24hrs-20order-rnn-...  \n",
       "4  ../RL_exp_cache/1128-30mins-24hrs-20order-rnn-...  "
      ]
     },
     "execution_count": 7,
     "metadata": {},
     "output_type": "execute_result"
    }
   ],
   "source": [
    "df.head(5)"
   ]
  },
  {
   "cell_type": "code",
   "execution_count": 8,
   "metadata": {},
   "outputs": [
    {
     "data": {
      "text/plain": [
       "0             inf\n",
       "1    1.000000e+02\n",
       "2    9.999999e+02\n",
       "3    1.000000e+04\n",
       "4    1.000000e+05\n",
       "5    5.000000e+02\n",
       "6    5.000000e+03\n",
       "7    2.000000e+04\n",
       "Name: mean_phy_action_costs, dtype: float64"
      ]
     },
     "execution_count": 8,
     "metadata": {},
     "output_type": "execute_result"
    }
   ],
   "source": [
    "scale_factors = 46.477027 / df['mean_phy_action_costs']\n",
    "scale_factors"
   ]
  },
  {
   "cell_type": "code",
   "execution_count": null,
   "metadata": {},
   "outputs": [],
   "source": []
  },
  {
   "cell_type": "code",
   "execution_count": 8,
   "metadata": {},
   "outputs": [
    {
     "data": {
      "text/html": [
       "<div>\n",
       "<style scoped>\n",
       "    .dataframe tbody tr th:only-of-type {\n",
       "        vertical-align: middle;\n",
       "    }\n",
       "\n",
       "    .dataframe tbody tr th {\n",
       "        vertical-align: top;\n",
       "    }\n",
       "\n",
       "    .dataframe thead th {\n",
       "        text-align: right;\n",
       "    }\n",
       "</style>\n",
       "<table border=\"1\" class=\"dataframe\">\n",
       "  <thead>\n",
       "    <tr style=\"text-align: right;\">\n",
       "      <th></th>\n",
       "      <th>mean_rand_info_gains</th>\n",
       "      <th>mean_rand_action_costs</th>\n",
       "      <th>cache_dir</th>\n",
       "      <th>policy_dir</th>\n",
       "    </tr>\n",
       "  </thead>\n",
       "  <tbody>\n",
       "    <tr>\n",
       "      <th>0</th>\n",
       "      <td>-0.000274</td>\n",
       "      <td>63.492681</td>\n",
       "      <td>../RL_exp_cache/1128-30mins-24hrs-20order-rnn-...</td>\n",
       "      <td>../models/dqn_mimic-1228_roc_curve-g1-ac5.0e-0...</td>\n",
       "    </tr>\n",
       "    <tr>\n",
       "      <th>1</th>\n",
       "      <td>-0.000261</td>\n",
       "      <td>63.492681</td>\n",
       "      <td>../RL_exp_cache/1128-30mins-24hrs-20order-rnn-...</td>\n",
       "      <td>../models/dqn_mimic-1228_roc_curve-g1-ac5.0e-0...</td>\n",
       "    </tr>\n",
       "    <tr>\n",
       "      <th>2</th>\n",
       "      <td>-0.000258</td>\n",
       "      <td>63.492681</td>\n",
       "      <td>../RL_exp_cache/1128-30mins-24hrs-20order-rnn-...</td>\n",
       "      <td>../models/dqn_mimic-1228_roc_curve-g1-ac5.0e-0...</td>\n",
       "    </tr>\n",
       "    <tr>\n",
       "      <th>3</th>\n",
       "      <td>-0.000269</td>\n",
       "      <td>63.492622</td>\n",
       "      <td>../RL_exp_cache/1128-30mins-24hrs-20order-rnn-...</td>\n",
       "      <td>../models/dqn_mimic-1228_roc_curve-g1-ac5.0e-0...</td>\n",
       "    </tr>\n",
       "    <tr>\n",
       "      <th>4</th>\n",
       "      <td>-0.000270</td>\n",
       "      <td>63.488849</td>\n",
       "      <td>../RL_exp_cache/1128-30mins-24hrs-20order-rnn-...</td>\n",
       "      <td>../models/dqn_mimic-1228_roc_curve-g1-ac5.0e-0...</td>\n",
       "    </tr>\n",
       "  </tbody>\n",
       "</table>\n",
       "</div>"
      ],
      "text/plain": [
       "   mean_rand_info_gains  mean_rand_action_costs  \\\n",
       "0             -0.000274               63.492681   \n",
       "1             -0.000261               63.492681   \n",
       "2             -0.000258               63.492681   \n",
       "3             -0.000269               63.492622   \n",
       "4             -0.000270               63.488849   \n",
       "\n",
       "                                           cache_dir  \\\n",
       "0  ../RL_exp_cache/1128-30mins-24hrs-20order-rnn-...   \n",
       "1  ../RL_exp_cache/1128-30mins-24hrs-20order-rnn-...   \n",
       "2  ../RL_exp_cache/1128-30mins-24hrs-20order-rnn-...   \n",
       "3  ../RL_exp_cache/1128-30mins-24hrs-20order-rnn-...   \n",
       "4  ../RL_exp_cache/1128-30mins-24hrs-20order-rnn-...   \n",
       "\n",
       "                                          policy_dir  \n",
       "0  ../models/dqn_mimic-1228_roc_curve-g1-ac5.0e-0...  \n",
       "1  ../models/dqn_mimic-1228_roc_curve-g1-ac5.0e-0...  \n",
       "2  ../models/dqn_mimic-1228_roc_curve-g1-ac5.0e-0...  \n",
       "3  ../models/dqn_mimic-1228_roc_curve-g1-ac5.0e-0...  \n",
       "4  ../models/dqn_mimic-1228_roc_curve-g1-ac5.0e-0...  "
      ]
     },
     "execution_count": 8,
     "metadata": {},
     "output_type": "execute_result"
    }
   ],
   "source": [
    "rand_df.head(5)"
   ]
  },
  {
   "cell_type": "code",
   "execution_count": 5,
   "metadata": {
    "scrolled": false
   },
   "outputs": [
    {
     "data": {
      "image/png": "[encoded data removed]",
      "text/plain": [
       "<Figure size 864x576 with 1 Axes>"
      ]
     },
     "metadata": {
      "needs_background": "light"
     },
     "output_type": "display_data"
    }
   ],
   "source": [
    "plt.figure(figsize=[12,8])\n",
    "plt.scatter(df['mean_agent_info_gains'], df['mean_agent_action_costs'], c=df['test_loss'])\n",
    "plt.xlabel('info_gains', fontsize=20)\n",
    "plt.ylabel('action_costs', fontsize=20)\n",
    "plt.show()"
   ]
  },
  {
   "cell_type": "code",
   "execution_count": 6,
   "metadata": {},
   "outputs": [
    {
     "data": {
      "image/png": "[encoded data removed]",
      "text/plain": [
       "<Figure size 864x576 with 1 Axes>"
      ]
     },
     "metadata": {
      "needs_background": "light"
     },
     "output_type": "display_data"
    }
   ],
   "source": [
    "df_temp = df[df['test_loss'] < 10]\n",
    "plt.figure(figsize=[12,8])\n",
    "plt.scatter(df_temp['mean_agent_info_gains'], df_temp['mean_agent_action_costs'], c=df_temp['test_loss'])\n",
    "plt.xlabel('info_gains', fontsize=20)\n",
    "plt.ylabel('action_costs', fontsize=20)\n",
    "plt.show()"
   ]
  },
  {
   "cell_type": "markdown",
   "metadata": {},
   "source": [
    "### Test loss have no relationship with cost/gain"
   ]
  },
  {
   "cell_type": "code",
   "execution_count": 22,
   "metadata": {},
   "outputs": [
    {
     "data": {
      "image/png": "[encoded data removed]",
      "text/plain": [
       "<Figure size 864x576 with 1 Axes>"
      ]
     },
     "metadata": {
      "needs_background": "light"
     },
     "output_type": "display_data"
    }
   ],
   "source": [
    "plt.figure(figsize=[12,8])\n",
    "plt.scatter(df['mean_agent_info_gains'], df['mean_agent_action_costs'], c=df['overall_agent_reward'])\n",
    "plt.xlabel('info_gains', fontsize=20)\n",
    "plt.ylabel('action_costs', fontsize=20)\n",
    "plt.show()"
   ]
  },
  {
   "cell_type": "markdown",
   "metadata": {},
   "source": [
    "### Overall reward is dominated by action cost"
   ]
  },
  {
   "cell_type": "code",
   "execution_count": 8,
   "metadata": {},
   "outputs": [
    {
     "data": {
      "text/html": [
       "<div>\n",
       "<style scoped>\n",
       "    .dataframe tbody tr th:only-of-type {\n",
       "        vertical-align: middle;\n",
       "    }\n",
       "\n",
       "    .dataframe tbody tr th {\n",
       "        vertical-align: top;\n",
       "    }\n",
       "\n",
       "    .dataframe thead th {\n",
       "        text-align: right;\n",
       "    }\n",
       "</style>\n",
       "<table border=\"1\" class=\"dataframe\">\n",
       "  <thead>\n",
       "    <tr style=\"text-align: right;\">\n",
       "      <th></th>\n",
       "      <th>test_loss</th>\n",
       "      <th>mean_agent_info_gains</th>\n",
       "      <th>mean_agent_action_costs</th>\n",
       "      <th>overall_agent_reward</th>\n",
       "      <th>mean_phy_info_gains</th>\n",
       "      <th>mean_phy_action_costs</th>\n",
       "      <th>overall_phy_reward</th>\n",
       "      <th>mean_rand_info_gains</th>\n",
       "      <th>mean_rand_action_costs</th>\n",
       "      <th>overall_rand_reward</th>\n",
       "      <th>policy_dir</th>\n",
       "      <th>num_patients</th>\n",
       "      <th>identifier</th>\n",
       "      <th>reward_estimator_dir</th>\n",
       "      <th>cache_dir</th>\n",
       "    </tr>\n",
       "  </thead>\n",
       "  <tbody>\n",
       "    <tr>\n",
       "      <th>44</th>\n",
       "      <td>2.226319</td>\n",
       "      <td>0.000408</td>\n",
       "      <td>0.022371</td>\n",
       "      <td>-0.021963</td>\n",
       "      <td>-0.00014</td>\n",
       "      <td>0.023239</td>\n",
       "      <td>-0.023378</td>\n",
       "      <td>-0.000305</td>\n",
       "      <td>0.030862</td>\n",
       "      <td>-0.031167</td>\n",
       "      <td>../models/dqn_mimic-1221_random_order_search-g...</td>\n",
       "      <td>6076</td>\n",
       "      <td>debug_</td>\n",
       "      <td>../models/rew_m_normal1217-hl1-hu512-lr1e-06-r...</td>\n",
       "      <td>../RL_exp_cache/1128-30mins-24hrs-20order-rnn-...</td>\n",
       "    </tr>\n",
       "    <tr>\n",
       "      <th>60</th>\n",
       "      <td>4.701515</td>\n",
       "      <td>0.000047</td>\n",
       "      <td>0.022707</td>\n",
       "      <td>-0.022660</td>\n",
       "      <td>-0.00014</td>\n",
       "      <td>0.023239</td>\n",
       "      <td>-0.023378</td>\n",
       "      <td>-0.000305</td>\n",
       "      <td>0.030862</td>\n",
       "      <td>-0.031167</td>\n",
       "      <td>../models/dqn_mimic-1221_random_order_search-g...</td>\n",
       "      <td>6076</td>\n",
       "      <td>debug_</td>\n",
       "      <td>../models/rew_m_normal1217-hl1-hu512-lr1e-06-r...</td>\n",
       "      <td>../RL_exp_cache/1128-30mins-24hrs-20order-rnn-...</td>\n",
       "    </tr>\n",
       "  </tbody>\n",
       "</table>\n",
       "</div>"
      ],
      "text/plain": [
       "    test_loss  mean_agent_info_gains  mean_agent_action_costs  \\\n",
       "44   2.226319               0.000408                 0.022371   \n",
       "60   4.701515               0.000047                 0.022707   \n",
       "\n",
       "    overall_agent_reward  mean_phy_info_gains  mean_phy_action_costs  \\\n",
       "44             -0.021963             -0.00014               0.023239   \n",
       "60             -0.022660             -0.00014               0.023239   \n",
       "\n",
       "    overall_phy_reward  mean_rand_info_gains  mean_rand_action_costs  \\\n",
       "44           -0.023378             -0.000305                0.030862   \n",
       "60           -0.023378             -0.000305                0.030862   \n",
       "\n",
       "    overall_rand_reward                                         policy_dir  \\\n",
       "44            -0.031167  ../models/dqn_mimic-1221_random_order_search-g...   \n",
       "60            -0.031167  ../models/dqn_mimic-1221_random_order_search-g...   \n",
       "\n",
       "    num_patients identifier  \\\n",
       "44          6076     debug_   \n",
       "60          6076     debug_   \n",
       "\n",
       "                                 reward_estimator_dir  \\\n",
       "44  ../models/rew_m_normal1217-hl1-hu512-lr1e-06-r...   \n",
       "60  ../models/rew_m_normal1217-hl1-hu512-lr1e-06-r...   \n",
       "\n",
       "                                            cache_dir  \n",
       "44  ../RL_exp_cache/1128-30mins-24hrs-20order-rnn-...  \n",
       "60  ../RL_exp_cache/1128-30mins-24hrs-20order-rnn-...  "
      ]
     },
     "execution_count": 8,
     "metadata": {},
     "output_type": "execute_result"
    }
   ],
   "source": [
    "selected_df = df[(df['mean_agent_info_gains'] > df['mean_phy_info_gains']) & (df['mean_agent_action_costs'] < df['mean_phy_action_costs']) ]\n",
    "selected_df"
   ]
  },
  {
   "cell_type": "code",
   "execution_count": 9,
   "metadata": {
    "scrolled": true
   },
   "outputs": [
    {
     "data": {
      "text/plain": [
       "array(['../models/dqn_mimic-1221_random_order_search-g1-ac5.0e-04-gamma0.95-fold1.0-only_pos0-sd167-ad40-nn-10000-3-1-256-lr-0.0001-reg-0.0001-0.5-s-256-5000-i-50-500-3-1',\n",
       "       '../models/dqn_mimic-1221_random_order_search-g1-ac5.0e-04-gamma0.95-fold1.0-only_pos0-sd167-ad40-nn-10000-4-1-256-lr-0.0001-reg-0.01-0.5-s-256-5000-i-50-500-3-1'],\n",
       "      dtype=object)"
      ]
     },
     "execution_count": 9,
     "metadata": {},
     "output_type": "execute_result"
    }
   ],
   "source": [
    "selected_df['policy_dir'].values"
   ]
  },
  {
   "cell_type": "markdown",
   "metadata": {},
   "source": [
    "### Selected policy dir have very similar hyperameters, differ by reg (0.001 vs 0.01)"
   ]
  },
  {
   "cell_type": "code",
   "execution_count": 11,
   "metadata": {},
   "outputs": [
    {
     "data": {
      "text/plain": [
       "0    0.000000\n",
       "1    0.528338\n",
       "2    0.051767\n",
       "3    0.005397\n",
       "4    0.000547\n",
       "5    0.107696\n",
       "6    0.011005\n",
       "7    0.002712\n",
       "Name: mean_agent_action_costs, dtype: float64"
      ]
     },
     "execution_count": 11,
     "metadata": {},
     "output_type": "execute_result"
    }
   ],
   "source": [
    "df['mean_agent_action_costs']"
   ]
  },
  {
   "cell_type": "code",
   "execution_count": 12,
   "metadata": {},
   "outputs": [
    {
     "data": {
      "text/plain": [
       "0             inf\n",
       "1    1.000000e+02\n",
       "2    9.999999e+02\n",
       "3    1.000000e+04\n",
       "4    1.000000e+05\n",
       "5    5.000000e+02\n",
       "6    5.000000e+03\n",
       "7    2.000000e+04\n",
       "Name: mean_phy_action_costs, dtype: float64"
      ]
     },
     "execution_count": 12,
     "metadata": {},
     "output_type": "execute_result"
    }
   ],
   "source": [
    "scale_factors"
   ]
  },
  {
   "cell_type": "code",
   "execution_count": 10,
   "metadata": {
    "scrolled": false
   },
   "outputs": [
    {
     "data": {
      "text/plain": [
       "0          NaN\n",
       "1    52.833826\n",
       "2    51.766779\n",
       "3    53.974244\n",
       "4    54.657445\n",
       "5    53.847925\n",
       "6    55.024478\n",
       "7    54.237324\n",
       "dtype: float64"
      ]
     },
     "execution_count": 10,
     "metadata": {},
     "output_type": "execute_result"
    }
   ],
   "source": [
    "df['mean_agent_action_costs'] * scale_factors"
   ]
  },
  {
   "cell_type": "code",
   "execution_count": 9,
   "metadata": {},
   "outputs": [
    {
     "data": {
      "image/png": "[encoded data removed]",
      "text/plain": [
       "<Figure size 864x576 with 1 Axes>"
      ]
     },
     "metadata": {
      "needs_background": "light"
     },
     "output_type": "display_data"
    }
   ],
   "source": [
    "plt.figure(figsize=[12,8])\n",
    "plt.scatter(df['mean_agent_info_gains'], df['mean_agent_action_costs'] * scale_factors, color='b', label='DQN policy')\n",
    "plt.scatter(df['mean_phy_info_gains'], df['mean_phy_action_costs'] * scale_factors, color='r', label='physician policy')\n",
    "plt.scatter(rand_df['mean_rand_info_gains'], rand_df['mean_rand_action_costs'], color='g', label='Random policy')\n",
    "plt.legend(loc='best')\n",
    "plt.xlabel('estimated info gains', fontsize=20)\n",
    "plt.ylabel('action costs', fontsize=20)\n",
    "plt.show()"
   ]
  },
  {
   "cell_type": "code",
   "execution_count": 31,
   "metadata": {},
   "outputs": [
    {
     "data": {
      "image/png": "[encoded data removed]",
      "text/plain": [
       "<Figure size 864x576 with 1 Axes>"
      ]
     },
     "metadata": {
      "needs_background": "light"
     },
     "output_type": "display_data"
    }
   ],
   "source": [
    "df_temp = df#[df['mean_agent_info_gains'] < ]\n",
    "\n",
    "plt.figure(figsize=[12,8])\n",
    "plt.scatter(df_temp['mean_agent_info_gains'], df_temp['mean_agent_action_costs'] / 0.0005, color='b', )\n",
    "plt.scatter(df_temp['mean_phy_info_gains'], df_temp['mean_phy_action_costs'] / 0.0005, color='r')\n",
    "#plt.scatter(df_temp['mean_rand_info_gains'], df_temp['mean_rand_action_costs'] / 0.0005, color='g')\n",
    "plt.legend(loc='best')\n",
    "plt.xlabel('est_info_gains', fontsize=20)\n",
    "plt.ylabel('action_costs', fontsize=20)\n",
    "plt.show()\n"
   ]
  },
  {
   "cell_type": "code",
   "execution_count": null,
   "metadata": {},
   "outputs": [],
   "source": []
  }
 ],
 "metadata": {
  "kernelspec": {
   "display_name": "Python 3",
   "language": "python",
   "name": "python3"
  },
  "language_info": {
   "codemirror_mode": {
    "name": "ipython",
    "version": 3
   },
   "file_extension": ".py",
   "mimetype": "text/x-python",
   "name": "python",
   "nbconvert_exporter": "python",
   "pygments_lexer": "ipython3",
   "version": "3.6.6"
  },
  "varInspector": {
   "cols": {
    "lenName": 16,
    "lenType": 16,
    "lenVar": 40
   },
   "kernels_config": {
    "python": {
     "delete_cmd_postfix": "",
     "delete_cmd_prefix": "del ",
     "library": "var_list.py",
     "varRefreshCmd": "print(var_dic_list())"
    },
    "r": {
     "delete_cmd_postfix": ") ",
     "delete_cmd_prefix": "rm(",
     "library": "var_list.r",
     "varRefreshCmd": "cat(var_dic_list()) "
    }
   },
   "types_to_exclude": [
    "module",
    "function",
    "builtin_function_or_method",
    "instance",
    "_Feature"
   ],
   "window_display": false
  }
 },
 "nbformat": 4,
 "nbformat_minor": 2
}
