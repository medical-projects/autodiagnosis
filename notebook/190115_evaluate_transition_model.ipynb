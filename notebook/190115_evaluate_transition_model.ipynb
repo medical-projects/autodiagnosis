{
 "cells": [
  {
   "cell_type": "code",
   "execution_count": 1,
   "metadata": {},
   "outputs": [],
   "source": [
    "%matplotlib inline\n",
    "import matplotlib.pyplot as plt"
   ]
  },
  {
   "cell_type": "code",
   "execution_count": 4,
   "metadata": {},
   "outputs": [],
   "source": [
    "<div class=\"burk\">\n",
    "import argparse\n",
    "import json\n",
    "import os\n",
    "import pickle\n",
    "\n",
    "import numpy as np\n",
    "import tensorflow as tf\n",
    "\n",
    "from utils.plotting import _plot_element, plot_hist_simple, plot_scatter_simple, plot_line_simple\n",
    "from database.MIMIC_discretized_exp import MIMIC_per_time_env_exp_rnn\n",
    "from policy_training_and_evaluation.run_reward_estimator import set_up_model, set_up_data_loader"
   ]
  },
  {
   "cell_type": "code",
   "execution_count": null,
   "metadata": {},
   "outputs": [],
   "source": []
  },
  {
   "cell_type": "code",
   "execution_count": 3,
   "metadata": {},
   "outputs": [],
   "source": [
    "type = 7\n",
    "trans_model_dir = '../models/trans_m_timepoint_obs_obs_normal0109-hl1-hu256-lr0.001-reg0.0001-kp0.7-bs64-n0-r7'\n",
    "cache_dir = '../RL_exp_cache/1128-30mins-24hrs-20order-rnn-neg_sampled/state_mean_and_std.csv'"
   ]
  },
  {
   "cell_type": "code",
   "execution_count": null,
   "metadata": {},
   "outputs": [],
   "source": [
    "def set_up_transition_model_and_data_loader(sess, dirname):\n",
    "    with open(os.path.join(dirname, 'hyperparameters.pkl'), 'rb') as f:\n",
    "        trans_model_hparams = pickle.load(f)\n",
    "    with open(os.path.join(dirname, 'results.pkl'), 'rb') as f:\n",
    "        trans_model_results = pickle.load(f)\n",
    "    trans_model_variable_scope, trans_model, trans_model_process_exp_func, _ = \\\n",
    "        set_up_model(args=trans_model_hparams, type=trans_model_hparams.type, log=print)\n",
    "\n",
    "    saver = \\\n",
    "        tf.train.Saver(var_list=tf.get_collection(tf.GraphKeys.GLOBAL_VARIABLES,\n",
    "                                                  scope=trans_model_variable_scope))\n",
    "    model_path = os.path.join(dirname, 'model-%d' % trans_model_results['best_model_idx'])\n",
    "    saver.restore(sess=sess, save_path=model_path)\n",
    "    return trans_model, trans_model_process_exp_func"
   ]
  },
  {
   "cell_type": "code",
   "execution_count": null,
   "metadata": {},
   "outputs": [],
   "source": [
    "np.random.seed(0)\n",
    "tf.set_random_seed(0)\n",
    "\n",
    "config = tf.ConfigProto()\n",
    "config.gpu_options.allow_growth = True\n",
    "with tf.Session(config=config) as sess:\n",
    "    trans_model, trans_model_process_exp_func = set_up_transition_model(\n",
    "        sess, args.trans_model_dir)\n",
    "    get_data_loader = set_up_data_loader(sess=sess, type=type, cache_dir=cache_dir,\n",
    "                                             train_batch_size=args.train_batch_size,\n",
    "                                             test_batch_size=args.test_batch_size)"
   ]
  }
 ],
 "metadata": {
  "kernelspec": {
   "display_name": "Python 3",
   "language": "python",
   "name": "python3"
  },
  "language_info": {
   "codemirror_mode": {
    "name": "ipython",
    "version": 3
   },
   "file_extension": ".py",
   "mimetype": "text/x-python",
   "name": "python",
   "nbconvert_exporter": "python",
   "pygments_lexer": "ipython3",
   "version": "3.6.5"
  },
  "varInspector": {
   "cols": {
    "lenName": 16,
    "lenType": 16,
    "lenVar": 40
   },
   "kernels_config": {
    "python": {
     "delete_cmd_postfix": "",
     "delete_cmd_prefix": "del ",
     "library": "var_list.py",
     "varRefreshCmd": "print(var_dic_list())"
    },
    "r": {
     "delete_cmd_postfix": ") ",
     "delete_cmd_prefix": "rm(",
     "library": "var_list.r",
     "varRefreshCmd": "cat(var_dic_list()) "
    }
   },
   "types_to_exclude": [
    "module",
    "function",
    "builtin_function_or_method",
    "instance",
    "_Feature"
   ],
   "window_display": false
  }
 },
 "nbformat": 4,
 "nbformat_minor": 2
}
