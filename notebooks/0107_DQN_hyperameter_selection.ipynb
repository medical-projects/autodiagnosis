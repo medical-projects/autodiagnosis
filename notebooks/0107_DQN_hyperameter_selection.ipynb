{
 "cells": [
  {
   "cell_type": "code",
   "execution_count": 2,
   "metadata": {},
   "outputs": [],
   "source": [
    "%matplotlib inline\n",
    "import matplotlib.pyplot as plt\n",
    "import pandas as pd\n",
    "import numpy as np"
   ]
  },
  {
   "cell_type": "code",
   "execution_count": 5,
   "metadata": {},
   "outputs": [],
   "source": [
    "df = pd.read_csv('../policy_training_and_evaluation/estimation/0107_val_regression_summary.csv') "
   ]
  },
  {
   "cell_type": "code",
   "execution_count": 6,
   "metadata": {},
   "outputs": [
    {
     "data": {
      "text/html": [
       "<div>\n",
       "<style scoped>\n",
       "    .dataframe tbody tr th:only-of-type {\n",
       "        vertical-align: middle;\n",
       "    }\n",
       "\n",
       "    .dataframe tbody tr th {\n",
       "        vertical-align: top;\n",
       "    }\n",
       "\n",
       "    .dataframe thead th {\n",
       "        text-align: right;\n",
       "    }\n",
       "</style>\n",
       "<table border=\"1\" class=\"dataframe\">\n",
       "  <thead>\n",
       "    <tr style=\"text-align: right;\">\n",
       "      <th></th>\n",
       "      <th>test_loss</th>\n",
       "      <th>policy_dir</th>\n",
       "      <th>identifier</th>\n",
       "      <th>reward_estimator_dir</th>\n",
       "      <th>cache_dir</th>\n",
       "      <th>action_cost_coef</th>\n",
       "      <th>gain_coef</th>\n",
       "      <th>mean_agent_info_gains</th>\n",
       "      <th>mean_agent_action_costs</th>\n",
       "      <th>overall_agent_reward</th>\n",
       "      <th>mean_phy_info_gains</th>\n",
       "      <th>mean_phy_action_costs</th>\n",
       "      <th>overall_phy_reward</th>\n",
       "      <th>mean_rand_info_gains</th>\n",
       "      <th>mean_rand_action_costs</th>\n",
       "      <th>overall_rand_reward</th>\n",
       "    </tr>\n",
       "  </thead>\n",
       "  <tbody>\n",
       "    <tr>\n",
       "      <th>0</th>\n",
       "      <td>7.796385</td>\n",
       "      <td>../models/dqn_mimic-0107_random_order_search-g...</td>\n",
       "      <td>0107_</td>\n",
       "      <td>../models/rew_m_normal1217-hl1-hu512-lr1e-06-r...</td>\n",
       "      <td>../RL_exp_cache/1128-30mins-24hrs-20order-rnn-...</td>\n",
       "      <td>0.0005</td>\n",
       "      <td>1</td>\n",
       "      <td>-0.001330</td>\n",
       "      <td>33.100389</td>\n",
       "      <td>-33.101719</td>\n",
       "      <td>-0.00014</td>\n",
       "      <td>46.477027</td>\n",
       "      <td>-46.477167</td>\n",
       "      <td>-0.000305</td>\n",
       "      <td>61.724813</td>\n",
       "      <td>-61.725118</td>\n",
       "    </tr>\n",
       "    <tr>\n",
       "      <th>1</th>\n",
       "      <td>0.618293</td>\n",
       "      <td>../models/dqn_mimic-0107_random_order_search-g...</td>\n",
       "      <td>0107_</td>\n",
       "      <td>../models/rew_m_normal1217-hl1-hu512-lr1e-06-r...</td>\n",
       "      <td>../RL_exp_cache/1128-30mins-24hrs-20order-rnn-...</td>\n",
       "      <td>0.0005</td>\n",
       "      <td>1</td>\n",
       "      <td>-0.001152</td>\n",
       "      <td>34.820441</td>\n",
       "      <td>-34.821593</td>\n",
       "      <td>-0.00014</td>\n",
       "      <td>46.477027</td>\n",
       "      <td>-46.477167</td>\n",
       "      <td>-0.000305</td>\n",
       "      <td>61.724813</td>\n",
       "      <td>-61.725118</td>\n",
       "    </tr>\n",
       "    <tr>\n",
       "      <th>2</th>\n",
       "      <td>7.102903</td>\n",
       "      <td>../models/dqn_mimic-0107_random_order_search-g...</td>\n",
       "      <td>0107_</td>\n",
       "      <td>../models/rew_m_normal1217-hl1-hu512-lr1e-06-r...</td>\n",
       "      <td>../RL_exp_cache/1128-30mins-24hrs-20order-rnn-...</td>\n",
       "      <td>0.0005</td>\n",
       "      <td>1</td>\n",
       "      <td>-0.000450</td>\n",
       "      <td>37.038720</td>\n",
       "      <td>-37.039170</td>\n",
       "      <td>-0.00014</td>\n",
       "      <td>46.477027</td>\n",
       "      <td>-46.477167</td>\n",
       "      <td>-0.000305</td>\n",
       "      <td>61.724813</td>\n",
       "      <td>-61.725118</td>\n",
       "    </tr>\n",
       "    <tr>\n",
       "      <th>3</th>\n",
       "      <td>0.938453</td>\n",
       "      <td>../models/dqn_mimic-0107_random_order_search-g...</td>\n",
       "      <td>0107_</td>\n",
       "      <td>../models/rew_m_normal1217-hl1-hu512-lr1e-06-r...</td>\n",
       "      <td>../RL_exp_cache/1128-30mins-24hrs-20order-rnn-...</td>\n",
       "      <td>0.0005</td>\n",
       "      <td>1</td>\n",
       "      <td>-0.000636</td>\n",
       "      <td>21.551851</td>\n",
       "      <td>-21.552487</td>\n",
       "      <td>-0.00014</td>\n",
       "      <td>46.477027</td>\n",
       "      <td>-46.477167</td>\n",
       "      <td>-0.000305</td>\n",
       "      <td>61.724813</td>\n",
       "      <td>-61.725118</td>\n",
       "    </tr>\n",
       "    <tr>\n",
       "      <th>4</th>\n",
       "      <td>0.216411</td>\n",
       "      <td>../models/dqn_mimic-0107_random_order_search-g...</td>\n",
       "      <td>0107_</td>\n",
       "      <td>../models/rew_m_normal1217-hl1-hu512-lr1e-06-r...</td>\n",
       "      <td>../RL_exp_cache/1128-30mins-24hrs-20order-rnn-...</td>\n",
       "      <td>0.0005</td>\n",
       "      <td>1</td>\n",
       "      <td>-0.000958</td>\n",
       "      <td>25.793027</td>\n",
       "      <td>-25.793985</td>\n",
       "      <td>-0.00014</td>\n",
       "      <td>46.477027</td>\n",
       "      <td>-46.477167</td>\n",
       "      <td>-0.000305</td>\n",
       "      <td>61.724813</td>\n",
       "      <td>-61.725118</td>\n",
       "    </tr>\n",
       "  </tbody>\n",
       "</table>\n",
       "</div>"
      ],
      "text/plain": [
       "   test_loss                                         policy_dir identifier  \\\n",
       "0   7.796385  ../models/dqn_mimic-0107_random_order_search-g...      0107_   \n",
       "1   0.618293  ../models/dqn_mimic-0107_random_order_search-g...      0107_   \n",
       "2   7.102903  ../models/dqn_mimic-0107_random_order_search-g...      0107_   \n",
       "3   0.938453  ../models/dqn_mimic-0107_random_order_search-g...      0107_   \n",
       "4   0.216411  ../models/dqn_mimic-0107_random_order_search-g...      0107_   \n",
       "\n",
       "                                reward_estimator_dir  \\\n",
       "0  ../models/rew_m_normal1217-hl1-hu512-lr1e-06-r...   \n",
       "1  ../models/rew_m_normal1217-hl1-hu512-lr1e-06-r...   \n",
       "2  ../models/rew_m_normal1217-hl1-hu512-lr1e-06-r...   \n",
       "3  ../models/rew_m_normal1217-hl1-hu512-lr1e-06-r...   \n",
       "4  ../models/rew_m_normal1217-hl1-hu512-lr1e-06-r...   \n",
       "\n",
       "                                           cache_dir  action_cost_coef  \\\n",
       "0  ../RL_exp_cache/1128-30mins-24hrs-20order-rnn-...            0.0005   \n",
       "1  ../RL_exp_cache/1128-30mins-24hrs-20order-rnn-...            0.0005   \n",
       "2  ../RL_exp_cache/1128-30mins-24hrs-20order-rnn-...            0.0005   \n",
       "3  ../RL_exp_cache/1128-30mins-24hrs-20order-rnn-...            0.0005   \n",
       "4  ../RL_exp_cache/1128-30mins-24hrs-20order-rnn-...            0.0005   \n",
       "\n",
       "   gain_coef  mean_agent_info_gains  mean_agent_action_costs  \\\n",
       "0          1              -0.001330                33.100389   \n",
       "1          1              -0.001152                34.820441   \n",
       "2          1              -0.000450                37.038720   \n",
       "3          1              -0.000636                21.551851   \n",
       "4          1              -0.000958                25.793027   \n",
       "\n",
       "   overall_agent_reward  mean_phy_info_gains  mean_phy_action_costs  \\\n",
       "0            -33.101719             -0.00014              46.477027   \n",
       "1            -34.821593             -0.00014              46.477027   \n",
       "2            -37.039170             -0.00014              46.477027   \n",
       "3            -21.552487             -0.00014              46.477027   \n",
       "4            -25.793985             -0.00014              46.477027   \n",
       "\n",
       "   overall_phy_reward  mean_rand_info_gains  mean_rand_action_costs  \\\n",
       "0          -46.477167             -0.000305               61.724813   \n",
       "1          -46.477167             -0.000305               61.724813   \n",
       "2          -46.477167             -0.000305               61.724813   \n",
       "3          -46.477167             -0.000305               61.724813   \n",
       "4          -46.477167             -0.000305               61.724813   \n",
       "\n",
       "   overall_rand_reward  \n",
       "0           -61.725118  \n",
       "1           -61.725118  \n",
       "2           -61.725118  \n",
       "3           -61.725118  \n",
       "4           -61.725118  "
      ]
     },
     "execution_count": 6,
     "metadata": {},
     "output_type": "execute_result"
    }
   ],
   "source": [
    "df.head(5)"
   ]
  },
  {
   "cell_type": "markdown",
   "metadata": {},
   "source": [
    "### Test loss have no relationship with cost/gain"
   ]
  },
  {
   "cell_type": "code",
   "execution_count": 7,
   "metadata": {
    "scrolled": false
   },
   "outputs": [
    {
     "data": {
      "image/png": "[encoded data removed]",
      "text/plain": [
       "<Figure size 864x576 with 1 Axes>"
      ]
     },
     "metadata": {
      "needs_background": "light"
     },
     "output_type": "display_data"
    }
   ],
   "source": [
    "plt.figure(figsize=[12,8])\n",
    "plt.scatter(df['mean_agent_info_gains'], df['mean_agent_action_costs'], c=df['test_loss'])\n",
    "plt.xlabel('info_gains', fontsize=20)\n",
    "plt.ylabel('action_costs', fontsize=20)\n",
    "plt.show()"
   ]
  },
  {
   "cell_type": "markdown",
   "metadata": {},
   "source": [
    "### Overall reward is dominated by action cost"
   ]
  },
  {
   "cell_type": "code",
   "execution_count": 13,
   "metadata": {},
   "outputs": [
    {
     "data": {
      "text/html": [
       "<div>\n",
       "<style scoped>\n",
       "    .dataframe tbody tr th:only-of-type {\n",
       "        vertical-align: middle;\n",
       "    }\n",
       "\n",
       "    .dataframe tbody tr th {\n",
       "        vertical-align: top;\n",
       "    }\n",
       "\n",
       "    .dataframe thead th {\n",
       "        text-align: right;\n",
       "    }\n",
       "</style>\n",
       "<table border=\"1\" class=\"dataframe\">\n",
       "  <thead>\n",
       "    <tr style=\"text-align: right;\">\n",
       "      <th></th>\n",
       "      <th>test_loss</th>\n",
       "      <th>policy_dir</th>\n",
       "      <th>identifier</th>\n",
       "      <th>reward_estimator_dir</th>\n",
       "      <th>cache_dir</th>\n",
       "      <th>action_cost_coef</th>\n",
       "      <th>gain_coef</th>\n",
       "      <th>mean_agent_info_gains</th>\n",
       "      <th>mean_agent_action_costs</th>\n",
       "      <th>overall_agent_reward</th>\n",
       "      <th>mean_phy_info_gains</th>\n",
       "      <th>mean_phy_action_costs</th>\n",
       "      <th>overall_phy_reward</th>\n",
       "      <th>mean_rand_info_gains</th>\n",
       "      <th>mean_rand_action_costs</th>\n",
       "      <th>overall_rand_reward</th>\n",
       "    </tr>\n",
       "  </thead>\n",
       "  <tbody>\n",
       "    <tr>\n",
       "      <th>37</th>\n",
       "      <td>0.794811</td>\n",
       "      <td>../models/dqn_mimic-0107_random_order_search-g...</td>\n",
       "      <td>0107_</td>\n",
       "      <td>../models/rew_m_normal1217-hl1-hu512-lr1e-06-r...</td>\n",
       "      <td>../RL_exp_cache/1128-30mins-24hrs-20order-rnn-...</td>\n",
       "      <td>0.0005</td>\n",
       "      <td>1</td>\n",
       "      <td>0.000444</td>\n",
       "      <td>42.834375</td>\n",
       "      <td>-42.833931</td>\n",
       "      <td>-0.00014</td>\n",
       "      <td>46.477027</td>\n",
       "      <td>-46.477167</td>\n",
       "      <td>-0.000305</td>\n",
       "      <td>61.724813</td>\n",
       "      <td>-61.725118</td>\n",
       "    </tr>\n",
       "    <tr>\n",
       "      <th>67</th>\n",
       "      <td>7.018007</td>\n",
       "      <td>../models/dqn_mimic-0107_random_order_search-g...</td>\n",
       "      <td>0107_</td>\n",
       "      <td>../models/rew_m_normal1217-hl1-hu512-lr1e-06-r...</td>\n",
       "      <td>../RL_exp_cache/1128-30mins-24hrs-20order-rnn-...</td>\n",
       "      <td>0.0005</td>\n",
       "      <td>1</td>\n",
       "      <td>-0.000011</td>\n",
       "      <td>45.217561</td>\n",
       "      <td>-45.217572</td>\n",
       "      <td>-0.00014</td>\n",
       "      <td>46.477027</td>\n",
       "      <td>-46.477167</td>\n",
       "      <td>-0.000305</td>\n",
       "      <td>61.724813</td>\n",
       "      <td>-61.725118</td>\n",
       "    </tr>\n",
       "  </tbody>\n",
       "</table>\n",
       "</div>"
      ],
      "text/plain": [
       "    test_loss                                         policy_dir identifier  \\\n",
       "37   0.794811  ../models/dqn_mimic-0107_random_order_search-g...      0107_   \n",
       "67   7.018007  ../models/dqn_mimic-0107_random_order_search-g...      0107_   \n",
       "\n",
       "                                 reward_estimator_dir  \\\n",
       "37  ../models/rew_m_normal1217-hl1-hu512-lr1e-06-r...   \n",
       "67  ../models/rew_m_normal1217-hl1-hu512-lr1e-06-r...   \n",
       "\n",
       "                                            cache_dir  action_cost_coef  \\\n",
       "37  ../RL_exp_cache/1128-30mins-24hrs-20order-rnn-...            0.0005   \n",
       "67  ../RL_exp_cache/1128-30mins-24hrs-20order-rnn-...            0.0005   \n",
       "\n",
       "    gain_coef  mean_agent_info_gains  mean_agent_action_costs  \\\n",
       "37          1               0.000444                42.834375   \n",
       "67          1              -0.000011                45.217561   \n",
       "\n",
       "    overall_agent_reward  mean_phy_info_gains  mean_phy_action_costs  \\\n",
       "37            -42.833931             -0.00014              46.477027   \n",
       "67            -45.217572             -0.00014              46.477027   \n",
       "\n",
       "    overall_phy_reward  mean_rand_info_gains  mean_rand_action_costs  \\\n",
       "37          -46.477167             -0.000305               61.724813   \n",
       "67          -46.477167             -0.000305               61.724813   \n",
       "\n",
       "    overall_rand_reward  \n",
       "37           -61.725118  \n",
       "67           -61.725118  "
      ]
     },
     "execution_count": 13,
     "metadata": {},
     "output_type": "execute_result"
    }
   ],
   "source": [
    "selected_df = df[(df['mean_agent_info_gains'] > df['mean_phy_info_gains']) & (df['mean_agent_action_costs'] < df['mean_phy_action_costs']) ]\n",
    "selected_df"
   ]
  },
  {
   "cell_type": "code",
   "execution_count": 14,
   "metadata": {},
   "outputs": [
    {
     "data": {
      "text/plain": [
       "array(['../models/dqn_mimic-0107_random_order_search-g1-ac5.0e-04-gamma0.95-fold1.0-only_pos0-sd167-ad40-nn-10000-3-1-128-lr-0.0001-reg-0.001-0.7-s-256-5000-i-50-500-3-1',\n",
       "       '../models/dqn_mimic-0107_random_order_search-g1-ac5.0e-04-gamma0.95-fold1.0-only_pos0-sd167-ad40-nn-10000-4-1-256-lr-0.0001-reg-0.0-0.7-s-256-5000-i-50-500-3-1'],\n",
       "      dtype=object)"
      ]
     },
     "execution_count": 14,
     "metadata": {},
     "output_type": "execute_result"
    }
   ],
   "source": [
    "selected_df['policy_dir'].values"
   ]
  },
  {
   "cell_type": "markdown",
   "metadata": {},
   "source": [
    "## Final plot"
   ]
  },
  {
   "cell_type": "code",
   "execution_count": 15,
   "metadata": {},
   "outputs": [
    {
     "data": {
      "image/png": "[encoded data removed]",
      "text/plain": [
       "<Figure size 864x576 with 1 Axes>"
      ]
     },
     "metadata": {
      "needs_background": "light"
     },
     "output_type": "display_data"
    }
   ],
   "source": [
    "plt.figure(figsize=[12,8])\n",
    "plt.scatter(df['mean_agent_info_gains'], df['mean_agent_action_costs'], color='b', )\n",
    "plt.scatter(df['mean_phy_info_gains'], df['mean_phy_action_costs'], color='r')\n",
    "plt.scatter(df['mean_rand_info_gains'], df['mean_rand_action_costs'], color='g')\n",
    "plt.legend(loc='best')\n",
    "plt.xlabel('info_gains', fontsize=20)\n",
    "plt.ylabel('action_costs', fontsize=20)\n",
    "plt.show()"
   ]
  },
  {
   "cell_type": "code",
   "execution_count": null,
   "metadata": {
    "collapsed": true
   },
   "outputs": [],
   "source": []
  }
 ],
 "metadata": {
  "kernelspec": {
   "display_name": "Python 3",
   "language": "python",
   "name": "python3"
  },
  "language_info": {
   "codemirror_mode": {
    "name": "ipython",
    "version": 3
   },
   "file_extension": ".py",
   "mimetype": "text/x-python",
   "name": "python",
   "nbconvert_exporter": "python",
   "pygments_lexer": "ipython3",
   "version": "3.6.5"
  }
 },
 "nbformat": 4,
 "nbformat_minor": 2
}
