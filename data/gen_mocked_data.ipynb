{
 "cells": [
  {
   "cell_type": "code",
   "execution_count": 15,
   "metadata": {},
   "outputs": [],
   "source": [
    "import pickle\n",
    "import numpy as np"
   ]
  },
  {
   "cell_type": "code",
   "execution_count": 24,
   "metadata": {},
   "outputs": [],
   "source": [
    "mocked_data = dict(\n",
    "    icustay_ids=[100, 200, 230, 178],\n",
    "    Ts=[[1., 1.2, 1.8], [0.5, 1.9], [0.7, 3.4, 4,4], [2.2, 3.1]],\n",
    "    ind_kts=[[0, 0, 2], [0, 1, 1], [0, 0], [0]],\n",
    "    ind_kfs=[[1, 0, 4], [3, 1, 0], [0, 3], [4]], # 5 features. So max index is 4\n",
    "    Ys=[[1.1, -0.8, 0.5], [0.5, 0.3, -1.2], [0.5, 0.3], [0.5]],\n",
    "    rel_end_time=[5.4, 5.2, 5.1, 5.3],\n",
    "    feature_names=['f1', 'f2', 'f3', 'f4', 'f5'],\n",
    "    covs=np.random.rand(4, 2),\n",
    "    covs_names=['c1', 'c2'],\n",
    "    test_set_idxes=[1],\n",
    "    test_indicators=np.array([0, 1, 0, 0], dtype=np.bool_),\n",
    "    train_set_idxes=[0, 2, 3],\n",
    "    labels=[0, 1, 1, 0]\n",
    ")"
   ]
  },
  {
   "cell_type": "code",
   "execution_count": 25,
   "metadata": {},
   "outputs": [
    {
     "data": {
      "text/plain": [
       "{'icustay_ids': [100, 200, 230, 178],\n",
       " 'Ts': [[1.0, 1.2, 1.8], [0.5, 1.9], [0.7, 3.4, 4, 4], [2.2, 3.1]],\n",
       " 'ind_kts': [[0, 0, 2], [0, 1, 1], [0, 0], [0]],\n",
       " 'ind_kfs': [[1, 0, 4], [3, 1, 0], [0, 3], [4]],\n",
       " 'Ys': [[1.1, -0.8, 0.5], [0.5, 0.3, -1.2], [0.5, 0.3], [0.5]],\n",
       " 'rel_end_time': [5.4, 5.2, 5.1, 5.3],\n",
       " 'feature_names': ['f1', 'f2', 'f3', 'f4', 'f5'],\n",
       " 'covs': array([[0.99973889, 0.67677284],\n",
       "        [0.01421458, 0.22956828],\n",
       "        [0.62339481, 0.17353278],\n",
       "        [0.90415906, 0.5386555 ]]),\n",
       " 'covs_names': ['c1', 'c2'],\n",
       " 'test_set_idxes': [1],\n",
       " 'test_indicators': array([False,  True, False, False]),\n",
       " 'train_set_idxes': [0, 2, 3],\n",
       " 'labels': [0, 1, 1, 0]}"
      ]
     },
     "execution_count": 25,
     "metadata": {},
     "output_type": "execute_result"
    }
   ],
   "source": [
    "mocked_data"
   ]
  },
  {
   "cell_type": "code",
   "execution_count": 26,
   "metadata": {},
   "outputs": [],
   "source": [
    "pickle.dump(mocked_data, open('mocked_data.pkl', 'wb'))"
   ]
  },
  {
   "cell_type": "code",
   "execution_count": null,
   "metadata": {},
   "outputs": [],
   "source": []
  },
  {
   "cell_type": "code",
   "execution_count": null,
   "metadata": {},
   "outputs": [],
   "source": []
  },
  {
   "cell_type": "markdown",
   "metadata": {},
   "source": []
  }
 ],
 "metadata": {
  "kernelspec": {
   "display_name": "cu90",
   "language": "python",
   "name": "cu90"
  },
  "language_info": {
   "codemirror_mode": {
    "name": "ipython",
    "version": 3
   },
   "file_extension": ".py",
   "mimetype": "text/x-python",
   "name": "python",
   "nbconvert_exporter": "python",
   "pygments_lexer": "ipython3",
   "version": "3.6.8"
  }
 },
 "nbformat": 4,
 "nbformat_minor": 2
}
